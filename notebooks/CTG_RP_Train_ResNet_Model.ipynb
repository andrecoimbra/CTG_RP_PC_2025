{
  "nbformat": 4,
  "nbformat_minor": 0,
  "metadata": {
    "colab": {
      "name": "CTG_RP Train ResNet Model.ipynb",
      "version": "0.3.2",
      "provenance": [],
      "collapsed_sections": [],
      "include_colab_link": true
    },
    "language_info": {
      "codemirror_mode": {
        "name": "ipython",
        "version": 3
      },
      "file_extension": ".py",
      "mimetype": "text/x-python",
      "name": "python",
      "nbconvert_exporter": "python",
      "pygments_lexer": "ipython3",
      "version": "3.6.8"
    },
    "kernelspec": {
      "name": "python3",
      "display_name": "Python 3"
    },
    "accelerator": "GPU"
  },
  "cells": [
    {
      "cell_type": "markdown",
      "metadata": {
        "id": "view-in-github",
        "colab_type": "text"
      },
      "source": [
        "<a href=\"https://colab.research.google.com/github/williamsdoug/CTG_RP/blob/master/CTG_RP_Train_ResNet_Model.ipynb\" target=\"_parent\"><img src=\"https://colab.research.google.com/assets/colab-badge.svg\" alt=\"Open In Colab\"/></a>"
      ]
    },
    {
      "cell_type": "markdown",
      "metadata": {
        "id": "rdV-UfCWAbe1",
        "colab_type": "text"
      },
      "source": [
        "# Generate Datasets and Train ResNet Model"
      ]
    },
    {
      "cell_type": "code",
      "metadata": {
        "id": "7ytg9ggCMvGs",
        "colab_type": "code",
        "outputId": "c2a1bc25-9cd2-4ae1-88e0-10c77d0ae60a",
        "colab": {
          "base_uri": "https://localhost:8080/",
          "height": 51
        }
      },
      "source": [
        "! ls"
      ],
      "execution_count": 1,
      "outputs": [
        {
          "output_type": "stream",
          "text": [
            "basic_denoise.py     config_local.py  ctu-uhb-ctgdb  libRP.py\t  sample_data\n",
            "compute_metadata.py  ctg_utils.py     images\t     __pycache__  test.py\n"
          ],
          "name": "stdout"
        }
      ]
    },
    {
      "cell_type": "code",
      "metadata": {
        "id": "Waljt_cvAbe2",
        "colab_type": "code",
        "colab": {}
      },
      "source": [
        "%reload_ext autoreload\n",
        "%autoreload 2\n",
        "%matplotlib inline"
      ],
      "execution_count": 0,
      "outputs": []
    },
    {
      "cell_type": "code",
      "metadata": {
        "id": "r3uofxVyAbe6",
        "colab_type": "code",
        "colab": {}
      },
      "source": [
        "import config_local\n",
        "from config_local import *"
      ],
      "execution_count": 0,
      "outputs": []
    },
    {
      "cell_type": "code",
      "metadata": {
        "id": "c75SbCPBAbe8",
        "colab_type": "code",
        "colab": {}
      },
      "source": [
        "import numpy as np\n",
        "import matplotlib.pyplot as plt\n",
        "\n",
        "from fastai.vision import *\n",
        "from fastai.metrics import error_rate\n",
        "\n",
        "import torch\n",
        "from torch import nn\n",
        "\n",
        "\n",
        "import collections\n",
        "import pprint"
      ],
      "execution_count": 0,
      "outputs": []
    },
    {
      "cell_type": "code",
      "metadata": {
        "id": "BWT1_z0IAbe9",
        "colab_type": "code",
        "colab": {}
      },
      "source": [
        "from compute_metadata import get_splits, generate_label_file, generate_lists"
      ],
      "execution_count": 0,
      "outputs": []
    },
    {
      "cell_type": "markdown",
      "metadata": {
        "id": "-Ai9ZTafGiL2",
        "colab_type": "text"
      },
      "source": [
        "## Config"
      ]
    },
    {
      "cell_type": "code",
      "metadata": {
        "id": "XO7NNv_NAbfH",
        "colab_type": "code",
        "colab": {}
      },
      "source": [
        "tfms=[]\n",
        "size=64*2\n",
        "bs=64\n",
        "workers=4\n",
        "\n",
        "path = Path() / 'images'"
      ],
      "execution_count": 0,
      "outputs": []
    },
    {
      "cell_type": "markdown",
      "metadata": {
        "id": "IXcz4vuVAbfA",
        "colab_type": "text"
      },
      "source": [
        "## Generate Train and Valid Label Files"
      ]
    },
    {
      "cell_type": "code",
      "metadata": {
        "id": "9lEivw5PAbfB",
        "colab_type": "code",
        "colab": {}
      },
      "source": [
        "train_valid_groups_full = get_splits(image_dir='images', image_file='rp_images_index.json', \n",
        "                                     exclude=['_clipped'],\n",
        "                                     thresh = 7.15)\n",
        "              \n",
        "# Create valid_x.csv files for each split\n",
        "for i in range(len(train_valid_groups_full)):\n",
        "    generate_lists(train_valid_groups_full[i], train_file='train_{}.csv'.format(i),\n",
        "                   valid_file='valid_{}.csv'.format(i))"
      ],
      "execution_count": 0,
      "outputs": []
    },
    {
      "cell_type": "code",
      "metadata": {
        "id": "N6nC-w_fHh8L",
        "colab_type": "code",
        "colab": {}
      },
      "source": [
        ""
      ],
      "execution_count": 0,
      "outputs": []
    },
    {
      "cell_type": "code",
      "metadata": {
        "id": "7pRyYW8LAbfD",
        "colab_type": "code",
        "outputId": "d2532f67-f6f8-464f-c5b4-bbb4a044ffed",
        "colab": {
          "base_uri": "https://localhost:8080/",
          "height": 68
        }
      },
      "source": [
        "!ls images/*.csv"
      ],
      "execution_count": 8,
      "outputs": [
        {
          "output_type": "stream",
          "text": [
            "images/train_0.csv  images/train_3.csv\timages/valid_1.csv  images/valid_4.csv\n",
            "images/train_1.csv  images/train_4.csv\timages/valid_2.csv\n",
            "images/train_2.csv  images/valid_0.csv\timages/valid_3.csv\n"
          ],
          "name": "stdout"
        }
      ]
    },
    {
      "cell_type": "code",
      "metadata": {
        "id": "h_teKLeJAbfJ",
        "colab_type": "code",
        "colab": {}
      },
      "source": [
        "train = ImageList.from_csv(path, 'train_0.csv')\n",
        "valid = ImageList.from_csv(path, 'valid_0.csv')\n",
        "\n",
        "lls = ItemLists(path, train, valid).label_from_df(cols=1).transform(tfms, size=size) \n",
        "db = lls.databunch(bs=bs, num_workers=workers)#.normalize(imagenet_stats)"
      ],
      "execution_count": 0,
      "outputs": []
    },
    {
      "cell_type": "markdown",
      "metadata": {
        "id": "xSCAnpBdAbff",
        "colab_type": "text"
      },
      "source": [
        "### Examine Results"
      ]
    },
    {
      "cell_type": "code",
      "metadata": {
        "id": "Bk14YOW7Abfg",
        "colab_type": "code",
        "outputId": "da22b16b-0249-4e78-d43d-2424506963dc",
        "colab": {
          "base_uri": "https://localhost:8080/",
          "height": 323
        }
      },
      "source": [
        "print('nClass: {}    classes: {}'.format(db.c, db.classes))\n",
        "db"
      ],
      "execution_count": 10,
      "outputs": [
        {
          "output_type": "stream",
          "text": [
            "nClass: 2    classes: [0, 1]\n"
          ],
          "name": "stdout"
        },
        {
          "output_type": "execute_result",
          "data": {
            "text/plain": [
              "ImageDataBunch;\n",
              "\n",
              "Train: LabelList (492 items)\n",
              "x: ImageList\n",
              "Image (3, 128, 128),Image (3, 128, 128),Image (3, 128, 128),Image (3, 128, 128),Image (3, 128, 128)\n",
              "y: CategoryList\n",
              "0,0,0,0,0\n",
              "Path: images;\n",
              "\n",
              "Valid: LabelList (120 items)\n",
              "x: ImageList\n",
              "Image (3, 128, 128),Image (3, 128, 128),Image (3, 128, 128),Image (3, 128, 128),Image (3, 128, 128)\n",
              "y: CategoryList\n",
              "0,0,0,0,0\n",
              "Path: images;\n",
              "\n",
              "Test: None"
            ]
          },
          "metadata": {
            "tags": []
          },
          "execution_count": 10
        }
      ]
    },
    {
      "cell_type": "code",
      "metadata": {
        "id": "0AgeX_E6AbfP",
        "colab_type": "code",
        "outputId": "7b23a073-477d-418d-ccbf-9b2e7e20ea24",
        "colab": {
          "base_uri": "https://localhost:8080/",
          "height": 232
        }
      },
      "source": [
        "im = train.get(-1)\n",
        "print(len(train), im.size)\n",
        "im.show()"
      ],
      "execution_count": 11,
      "outputs": [
        {
          "output_type": "stream",
          "text": [
            "492 torch.Size([599, 599])\n"
          ],
          "name": "stdout"
        },
        {
          "output_type": "display_data",
          "data": {
            "image/png": "[encoded data removed]",
            "text/plain": [
              "<Figure size 216x216 with 1 Axes>"
            ]
          },
          "metadata": {
            "tags": []
          }
        }
      ]
    },
    {
      "cell_type": "markdown",
      "metadata": {
        "id": "Vg5CLziZHC1J",
        "colab_type": "text"
      },
      "source": [
        "## Model"
      ]
    },
    {
      "cell_type": "code",
      "metadata": {
        "id": "IkocM3uJUWeU",
        "colab_type": "code",
        "colab": {}
      },
      "source": [
        "learn = cnn_learner(db, models.resnet34, metrics=accuracy)\n",
        "learn.summary()\n",
        "learn.save('initial')"
      ],
      "execution_count": 0,
      "outputs": []
    },
    {
      "cell_type": "markdown",
      "metadata": {
        "id": "0t4sSMWIKgk2",
        "colab_type": "text"
      },
      "source": [
        "# Train Model"
      ]
    },
    {
      "cell_type": "code",
      "metadata": {
        "id": "FteSA2jlJDxH",
        "colab_type": "code",
        "outputId": "796aa698-0e1a-48a8-bb80-b0c0d6b768d0",
        "colab": {
          "base_uri": "https://localhost:8080/",
          "height": 80
        }
      },
      "source": [
        "learn.fit_one_cycle(1)  # learn.fit_one_cycle(1, 0.01)\n",
        "\n",
        "learn.save('save-1')"
      ],
      "execution_count": 13,
      "outputs": [
        {
          "output_type": "display_data",
          "data": {
            "text/html": [
              "<table border=\"1\" class=\"dataframe\">\n",
              "  <thead>\n",
              "    <tr style=\"text-align: left;\">\n",
              "      <th>epoch</th>\n",
              "      <th>train_loss</th>\n",
              "      <th>valid_loss</th>\n",
              "      <th>accuracy</th>\n",
              "      <th>time</th>\n",
              "    </tr>\n",
              "  </thead>\n",
              "  <tbody>\n",
              "    <tr>\n",
              "      <td>0</td>\n",
              "      <td>0.947643</td>\n",
              "      <td>0.759221</td>\n",
              "      <td>0.458333</td>\n",
              "      <td>00:05</td>\n",
              "    </tr>\n",
              "  </tbody>\n",
              "</table>"
            ],
            "text/plain": [
              "<IPython.core.display.HTML object>"
            ]
          },
          "metadata": {
            "tags": []
          }
        }
      ]
    },
    {
      "cell_type": "code",
      "metadata": {
        "id": "UNY7L1jFK3jS",
        "colab_type": "code",
        "outputId": "a97934b7-6397-4a4b-8273-cbd32326a98d",
        "colab": {
          "base_uri": "https://localhost:8080/",
          "height": 300
        }
      },
      "source": [
        "learn.lr_find(end_lr=1)\n",
        "learn.recorder.plot()"
      ],
      "execution_count": 14,
      "outputs": [
        {
          "output_type": "display_data",
          "data": {
            "text/html": [
              ""
            ],
            "text/plain": [
              "<IPython.core.display.HTML object>"
            ]
          },
          "metadata": {
            "tags": []
          }
        },
        {
          "output_type": "stream",
          "text": [
            "LR Finder is complete, type {learner_name}.recorder.plot() to see the graph.\n"
          ],
          "name": "stdout"
        },
        {
          "output_type": "display_data",
          "data": {
            "image/png": "[encoded data removed]",
            "text/plain": [
              "<Figure size 432x288 with 1 Axes>"
            ]
          },
          "metadata": {
            "tags": []
          }
        }
      ]
    },
    {
      "cell_type": "code",
      "metadata": {
        "id": "7Pkb1Vo3NYz9",
        "colab_type": "code",
        "outputId": "649b4b04-aff9-490a-cd61-cc2b8fc17cc4",
        "colab": {
          "base_uri": "https://localhost:8080/",
          "height": 173
        }
      },
      "source": [
        "learn.load('save-1')\n",
        "learn.fit_one_cycle(4, 1e-3)  # learn.fit_one_cycle(1, 0.01)\n",
        "learn.save('save-2')"
      ],
      "execution_count": 15,
      "outputs": [
        {
          "output_type": "display_data",
          "data": {
            "text/html": [
              "<table border=\"1\" class=\"dataframe\">\n",
              "  <thead>\n",
              "    <tr style=\"text-align: left;\">\n",
              "      <th>epoch</th>\n",
              "      <th>train_loss</th>\n",
              "      <th>valid_loss</th>\n",
              "      <th>accuracy</th>\n",
              "      <th>time</th>\n",
              "    </tr>\n",
              "  </thead>\n",
              "  <tbody>\n",
              "    <tr>\n",
              "      <td>0</td>\n",
              "      <td>0.676482</td>\n",
              "      <td>0.835752</td>\n",
              "      <td>0.433333</td>\n",
              "      <td>00:05</td>\n",
              "    </tr>\n",
              "    <tr>\n",
              "      <td>1</td>\n",
              "      <td>0.634319</td>\n",
              "      <td>0.934840</td>\n",
              "      <td>0.458333</td>\n",
              "      <td>00:05</td>\n",
              "    </tr>\n",
              "    <tr>\n",
              "      <td>2</td>\n",
              "      <td>0.601045</td>\n",
              "      <td>0.966254</td>\n",
              "      <td>0.433333</td>\n",
              "      <td>00:05</td>\n",
              "    </tr>\n",
              "    <tr>\n",
              "      <td>3</td>\n",
              "      <td>0.568352</td>\n",
              "      <td>0.973235</td>\n",
              "      <td>0.500000</td>\n",
              "      <td>00:05</td>\n",
              "    </tr>\n",
              "  </tbody>\n",
              "</table>"
            ],
            "text/plain": [
              "<IPython.core.display.HTML object>"
            ]
          },
          "metadata": {
            "tags": []
          }
        }
      ]
    },
    {
      "cell_type": "code",
      "metadata": {
        "id": "dlKJhkKPYCpM",
        "colab_type": "code",
        "colab": {
          "base_uri": "https://localhost:8080/",
          "height": 300
        },
        "outputId": "0146d9ad-7819-4b0b-e1e6-196cc8fa8357"
      },
      "source": [
        "learn.load('save-2')\n",
        "learn.unfreeze()\n",
        "learn.lr_find(end_lr=1)\n",
        "learn.recorder.plot()"
      ],
      "execution_count": 16,
      "outputs": [
        {
          "output_type": "display_data",
          "data": {
            "text/html": [
              ""
            ],
            "text/plain": [
              "<IPython.core.display.HTML object>"
            ]
          },
          "metadata": {
            "tags": []
          }
        },
        {
          "output_type": "stream",
          "text": [
            "LR Finder is complete, type {learner_name}.recorder.plot() to see the graph.\n"
          ],
          "name": "stdout"
        },
        {
          "output_type": "display_data",
          "data": {
            "image/png": "[encoded data removed]",
            "text/plain": [
              "<Figure size 432x288 with 1 Axes>"
            ]
          },
          "metadata": {
            "tags": []
          }
        }
      ]
    },
    {
      "cell_type": "code",
      "metadata": {
        "id": "-q-WjyYSYK4B",
        "colab_type": "code",
        "colab": {
          "base_uri": "https://localhost:8080/",
          "height": 173
        },
        "outputId": "13bfe609-a5a9-4dc8-8d11-66a0a6697e9b"
      },
      "source": [
        "learn.load('save-2')\n",
        "learn.unfreeze()\n",
        "learn.fit_one_cycle(4, 7e-5)  # learn.fit_one_cycle(1, 0.01)\n",
        "learn.save('save-3')"
      ],
      "execution_count": 17,
      "outputs": [
        {
          "output_type": "display_data",
          "data": {
            "text/html": [
              "<table border=\"1\" class=\"dataframe\">\n",
              "  <thead>\n",
              "    <tr style=\"text-align: left;\">\n",
              "      <th>epoch</th>\n",
              "      <th>train_loss</th>\n",
              "      <th>valid_loss</th>\n",
              "      <th>accuracy</th>\n",
              "      <th>time</th>\n",
              "    </tr>\n",
              "  </thead>\n",
              "  <tbody>\n",
              "    <tr>\n",
              "      <td>0</td>\n",
              "      <td>0.454461</td>\n",
              "      <td>0.983606</td>\n",
              "      <td>0.525000</td>\n",
              "      <td>00:05</td>\n",
              "    </tr>\n",
              "    <tr>\n",
              "      <td>1</td>\n",
              "      <td>0.364157</td>\n",
              "      <td>1.082769</td>\n",
              "      <td>0.550000</td>\n",
              "      <td>00:05</td>\n",
              "    </tr>\n",
              "    <tr>\n",
              "      <td>2</td>\n",
              "      <td>0.277814</td>\n",
              "      <td>1.003265</td>\n",
              "      <td>0.558333</td>\n",
              "      <td>00:05</td>\n",
              "    </tr>\n",
              "    <tr>\n",
              "      <td>3</td>\n",
              "      <td>0.227201</td>\n",
              "      <td>1.001673</td>\n",
              "      <td>0.516667</td>\n",
              "      <td>00:05</td>\n",
              "    </tr>\n",
              "  </tbody>\n",
              "</table>"
            ],
            "text/plain": [
              "<IPython.core.display.HTML object>"
            ]
          },
          "metadata": {
            "tags": []
          }
        }
      ]
    }
  ]
}