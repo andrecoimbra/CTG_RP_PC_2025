{
  "nbformat": 4,
  "nbformat_minor": 0,
  "metadata": {
    "colab": {
      "name": "CTG_RP Train Model Shuffled.ipynb",
      "version": "0.3.2",
      "provenance": [],
      "collapsed_sections": [],
      "include_colab_link": true
    },
    "language_info": {
      "codemirror_mode": {
        "name": "ipython",
        "version": 3
      },
      "file_extension": ".py",
      "mimetype": "text/x-python",
      "name": "python",
      "nbconvert_exporter": "python",
      "pygments_lexer": "ipython3",
      "version": "3.6.8"
    },
    "kernelspec": {
      "name": "python3",
      "display_name": "Python 3"
    },
    "accelerator": "GPU"
  },
  "cells": [
    {
      "cell_type": "markdown",
      "metadata": {
        "id": "view-in-github",
        "colab_type": "text"
      },
      "source": [
        "<a href=\"https://colab.research.google.com/github/williamsdoug/CTG_RP/blob/master/CTG_RP_Train_Model_Shuffled.ipynb\" target=\"_parent\"><img src=\"https://colab.research.google.com/assets/colab-badge.svg\" alt=\"Open In Colab\"/></a>"
      ]
    },
    {
      "cell_type": "markdown",
      "metadata": {
        "id": "rdV-UfCWAbe1",
        "colab_type": "text"
      },
      "source": [
        "# Generate Datasets and Train Model\n",
        "\n",
        "\n",
        "Random selection for Train and Valid without regard for source file"
      ]
    },
    {
      "cell_type": "code",
      "metadata": {
        "id": "7ytg9ggCMvGs",
        "colab_type": "code",
        "outputId": "3cdab4a8-6797-4fa7-d640-426c0329f005",
        "colab": {
          "base_uri": "https://localhost:8080/",
          "height": 51
        }
      },
      "source": [
        "! ls"
      ],
      "execution_count": 2,
      "outputs": [
        {
          "output_type": "stream",
          "text": [
            "basic_denoise.py     config_local.py  ctu-uhb-ctgdb  libRP.py\t  sample_data\n",
            "compute_metadata.py  ctg_utils.py     images\t     __pycache__  test.py\n"
          ],
          "name": "stdout"
        }
      ]
    },
    {
      "cell_type": "code",
      "metadata": {
        "id": "Waljt_cvAbe2",
        "colab_type": "code",
        "colab": {}
      },
      "source": [
        "%reload_ext autoreload\n",
        "%autoreload 2\n",
        "%matplotlib inline"
      ],
      "execution_count": 0,
      "outputs": []
    },
    {
      "cell_type": "code",
      "metadata": {
        "id": "r3uofxVyAbe6",
        "colab_type": "code",
        "colab": {}
      },
      "source": [
        "import config_local\n",
        "from config_local import *"
      ],
      "execution_count": 0,
      "outputs": []
    },
    {
      "cell_type": "code",
      "metadata": {
        "id": "c75SbCPBAbe8",
        "colab_type": "code",
        "colab": {}
      },
      "source": [
        "import numpy as np\n",
        "import matplotlib.pyplot as plt\n",
        "import gc\n",
        "\n",
        "from fastai.vision import *\n",
        "from fastai.metrics import error_rate\n",
        "\n",
        "import torch\n",
        "from torch import nn\n",
        "\n",
        "\n",
        "import collections\n",
        "import pprint"
      ],
      "execution_count": 0,
      "outputs": []
    },
    {
      "cell_type": "code",
      "metadata": {
        "id": "BWT1_z0IAbe9",
        "colab_type": "code",
        "colab": {}
      },
      "source": [
        "from compute_metadata import get_splits, generate_label_file, generate_lists"
      ],
      "execution_count": 0,
      "outputs": []
    },
    {
      "cell_type": "markdown",
      "metadata": {
        "id": "-Ai9ZTafGiL2",
        "colab_type": "text"
      },
      "source": [
        "## Config"
      ]
    },
    {
      "cell_type": "code",
      "metadata": {
        "id": "V7IcSKzIq98B",
        "colab_type": "code",
        "colab": {}
      },
      "source": [
        "np.random.seed(1234)\n",
        "random.seed(1234)\n",
        "\n",
        "binary_image_stats = ([0.5]*3, [0.5]*3)"
      ],
      "execution_count": 0,
      "outputs": []
    },
    {
      "cell_type": "code",
      "metadata": {
        "id": "XO7NNv_NAbfH",
        "colab_type": "code",
        "colab": {}
      },
      "source": [
        "tfms=[]\n",
        "size=64\n",
        "bs=64\n",
        "workers=4\n",
        "\n",
        "path = Path() / 'images'"
      ],
      "execution_count": 0,
      "outputs": []
    },
    {
      "cell_type": "markdown",
      "metadata": {
        "id": "IXcz4vuVAbfA",
        "colab_type": "text"
      },
      "source": [
        "## Generate Train and Valid Label Files"
      ]
    },
    {
      "cell_type": "code",
      "metadata": {
        "id": "L8Kt2t7-hltb",
        "colab_type": "code",
        "colab": {}
      },
      "source": [
        "def generate_label_file(group, image_dir='images', \n",
        "                        csv_file='labels.csv', header='fname, label'):\n",
        "    if csv_file is None:\n",
        "        results = []\n",
        "        for v in group.values():\n",
        "            for label, all_files in v.items():\n",
        "                for fname in all_files:\n",
        "                    results.append((os.path.join(image_dir, fname), 1 if label else 0))\n",
        "        return results\n",
        "    else:\n",
        "        with open(os.path.join(image_dir, csv_file), 'wt') as outfile:\n",
        "            if header:\n",
        "                print(header, file=outfile)\n",
        "            for v in group.values():\n",
        "                for label, all_files in v.items():\n",
        "                    for fname in all_files:\n",
        "                        line = '{}, {}'.format(fname, 1 if label else 0)\n",
        "                        print(line, file=outfile)"
      ],
      "execution_count": 0,
      "outputs": []
    },
    {
      "cell_type": "code",
      "metadata": {
        "id": "9lEivw5PAbfB",
        "colab_type": "code",
        "colab": {}
      },
      "source": [
        "train_valid_groups_full = get_splits(image_dir='images', image_file='rp_images_index.json', \n",
        "                                     exclude=['_clipped'],\n",
        "                                     thresh = 7.15)\n",
        "              \n",
        "generate_label_file(train_valid_groups_full[0], csv_file='labels.csv')"
      ],
      "execution_count": 0,
      "outputs": []
    },
    {
      "cell_type": "code",
      "metadata": {
        "id": "7pRyYW8LAbfD",
        "colab_type": "code",
        "outputId": "315fb65b-044e-4b79-f033-c26fa319dda2",
        "colab": {
          "base_uri": "https://localhost:8080/",
          "height": 68
        }
      },
      "source": [
        "!ls images/*.csv\n",
        "#!cat images/labels.csv"
      ],
      "execution_count": 11,
      "outputs": [
        {
          "output_type": "stream",
          "text": [
            "images/labels.csv   images/train_2.csv\timages/valid_0.csv  images/valid_3.csv\n",
            "images/train_0.csv  images/train_3.csv\timages/valid_1.csv  images/valid_4.csv\n",
            "images/train_1.csv  images/train_4.csv\timages/valid_2.csv\n"
          ],
          "name": "stdout"
        }
      ]
    },
    {
      "cell_type": "code",
      "metadata": {
        "id": "zTto_DwSil7w",
        "colab_type": "code",
        "outputId": "e4c83500-0030-431b-d2ed-49cf236518ae",
        "colab": {
          "base_uri": "https://localhost:8080/",
          "height": 306
        }
      },
      "source": [
        "lls = ImageList.from_csv(path, 'labels.csv').split_by_rand_pct(0.2).label_from_df(cols=1).transform(tfms, size=size)\n",
        "db = lls.databunch(bs=bs, num_workers=workers)\n",
        "my_stats = db.batch_stats()\n",
        "db = lls.databunch(bs=bs, num_workers=workers).normalize(my_stats)\n",
        "db"
      ],
      "execution_count": 12,
      "outputs": [
        {
          "output_type": "execute_result",
          "data": {
            "text/plain": [
              "ImageDataBunch;\n",
              "\n",
              "Train: LabelList (490 items)\n",
              "x: ImageList\n",
              "Image (3, 64, 64),Image (3, 64, 64),Image (3, 64, 64),Image (3, 64, 64),Image (3, 64, 64)\n",
              "y: CategoryList\n",
              "0,0,0,0,0\n",
              "Path: images;\n",
              "\n",
              "Valid: LabelList (122 items)\n",
              "x: ImageList\n",
              "Image (3, 64, 64),Image (3, 64, 64),Image (3, 64, 64),Image (3, 64, 64),Image (3, 64, 64)\n",
              "y: CategoryList\n",
              "0,1,1,1,0\n",
              "Path: images;\n",
              "\n",
              "Test: None"
            ]
          },
          "metadata": {
            "tags": []
          },
          "execution_count": 12
        }
      ]
    },
    {
      "cell_type": "code",
      "metadata": {
        "id": "z97vKXrkxn5q",
        "colab_type": "code",
        "colab": {
          "base_uri": "https://localhost:8080/",
          "height": 34
        },
        "outputId": "3bdedb9c-eac3-4ba4-f08f-4ac4bdf16a63"
      },
      "source": [
        "db.batch_stats()"
      ],
      "execution_count": 13,
      "outputs": [
        {
          "output_type": "execute_result",
          "data": {
            "text/plain": [
              "[tensor([-0.0890, -0.0890, -0.0890]), tensor([0.8887, 0.8887, 0.8887])]"
            ]
          },
          "metadata": {
            "tags": []
          },
          "execution_count": 13
        }
      ]
    },
    {
      "cell_type": "code",
      "metadata": {
        "id": "h_teKLeJAbfJ",
        "colab_type": "code",
        "colab": {}
      },
      "source": [
        "# train = ImageList.from_csv(path, 'train_0.csv')\n",
        "# valid = ImageList.from_csv(path, 'valid_0.csv')\n",
        "\n",
        "# lls = ItemLists(path, train, valid).label_from_df(cols=1).transform(tfms, size=size) \n",
        "# db = lls.databunch(bs=bs, num_workers=workers)#.normalize(imagenet_stats)"
      ],
      "execution_count": 0,
      "outputs": []
    },
    {
      "cell_type": "markdown",
      "metadata": {
        "id": "xSCAnpBdAbff",
        "colab_type": "text"
      },
      "source": [
        "### Examine Results"
      ]
    },
    {
      "cell_type": "code",
      "metadata": {
        "id": "Bk14YOW7Abfg",
        "colab_type": "code",
        "outputId": "618f433f-e801-4186-f470-da8a92bcbb3a",
        "colab": {
          "base_uri": "https://localhost:8080/",
          "height": 323
        }
      },
      "source": [
        "print('nClass: {}    classes: {}'.format(db.c, db.classes))\n",
        "db"
      ],
      "execution_count": 15,
      "outputs": [
        {
          "output_type": "stream",
          "text": [
            "nClass: 2    classes: [0, 1]\n"
          ],
          "name": "stdout"
        },
        {
          "output_type": "execute_result",
          "data": {
            "text/plain": [
              "ImageDataBunch;\n",
              "\n",
              "Train: LabelList (490 items)\n",
              "x: ImageList\n",
              "Image (3, 64, 64),Image (3, 64, 64),Image (3, 64, 64),Image (3, 64, 64),Image (3, 64, 64)\n",
              "y: CategoryList\n",
              "0,0,0,0,0\n",
              "Path: images;\n",
              "\n",
              "Valid: LabelList (122 items)\n",
              "x: ImageList\n",
              "Image (3, 64, 64),Image (3, 64, 64),Image (3, 64, 64),Image (3, 64, 64),Image (3, 64, 64)\n",
              "y: CategoryList\n",
              "0,1,1,1,0\n",
              "Path: images;\n",
              "\n",
              "Test: None"
            ]
          },
          "metadata": {
            "tags": []
          },
          "execution_count": 15
        }
      ]
    },
    {
      "cell_type": "code",
      "metadata": {
        "id": "0AgeX_E6AbfP",
        "colab_type": "code",
        "outputId": "ff8cce31-e42a-4cbd-d12d-1c3b982aa5fa",
        "colab": {
          "base_uri": "https://localhost:8080/",
          "height": 232
        }
      },
      "source": [
        "im = lls.train.get(-1)\n",
        "print(len(lls.train), im.size)\n",
        "im.show()"
      ],
      "execution_count": 16,
      "outputs": [
        {
          "output_type": "stream",
          "text": [
            "490 torch.Size([599, 599])\n"
          ],
          "name": "stdout"
        },
        {
          "output_type": "display_data",
          "data": {
            "image/png": "[encoded data removed]",
            "text/plain": [
              "<Figure size 216x216 with 1 Axes>"
            ]
          },
          "metadata": {
            "tags": []
          }
        }
      ]
    },
    {
      "cell_type": "markdown",
      "metadata": {
        "id": "Vg5CLziZHC1J",
        "colab_type": "text"
      },
      "source": [
        "## Model"
      ]
    },
    {
      "cell_type": "code",
      "metadata": {
        "id": "KdG9Pe1wIXLw",
        "colab_type": "code",
        "colab": {}
      },
      "source": [
        "trial_model = nn.Sequential(\n",
        "    nn.Sequential(\n",
        "          nn.Conv2d(3,8,5),     # 60 × 60 × 8\n",
        "          nn.ReLU(),\n",
        "          nn.AvgPool2d(3, stride=2),    # 29 × 29 × 8\n",
        "        \n",
        "          #nn.Dropout(p=0.25),\n",
        "          nn.Conv2d(8,8,5),         # 25 × 25 × 8\n",
        "          nn.ReLU(),\n",
        "          nn.AvgPool2d(3, stride=2),    # 12 × 12 × 8\n",
        "        \n",
        "          Flatten()         # 1152\n",
        "    ),\n",
        "    # removed model head to compute flatten size\n",
        ")"
      ],
      "execution_count": 0,
      "outputs": []
    },
    {
      "cell_type": "code",
      "metadata": {
        "id": "hKLvyhRrIXQ8",
        "colab_type": "code",
        "outputId": "4c6e3911-3a62-4747-bce7-87ca0a92fd65",
        "colab": {
          "base_uri": "https://localhost:8080/",
          "height": 374
        }
      },
      "source": [
        "trial_learn = Learner(db, trial_model, loss_func = nn.CrossEntropyLoss(), metrics=accuracy)\n",
        "trial_learn.summary()"
      ],
      "execution_count": 18,
      "outputs": [
        {
          "output_type": "execute_result",
          "data": {
            "text/plain": [
              "======================================================================\n",
              "Layer (type)         Output Shape         Param #    Trainable \n",
              "======================================================================\n",
              "Conv2d               [8, 60, 60]          608        True      \n",
              "______________________________________________________________________\n",
              "ReLU                 [8, 60, 60]          0          False     \n",
              "______________________________________________________________________\n",
              "AvgPool2d            [8, 29, 29]          0          False     \n",
              "______________________________________________________________________\n",
              "Conv2d               [8, 25, 25]          1,608      True      \n",
              "______________________________________________________________________\n",
              "ReLU                 [8, 25, 25]          0          False     \n",
              "______________________________________________________________________\n",
              "AvgPool2d            [8, 12, 12]          0          False     \n",
              "______________________________________________________________________\n",
              "Flatten              [1152]               0          False     \n",
              "______________________________________________________________________\n",
              "\n",
              "Total params: 2,216\n",
              "Total trainable params: 2,216\n",
              "Total non-trainable params: 0"
            ]
          },
          "metadata": {
            "tags": []
          },
          "execution_count": 18
        }
      ]
    },
    {
      "cell_type": "code",
      "metadata": {
        "id": "yqADfj8XrSly",
        "colab_type": "code",
        "colab": {
          "base_uri": "https://localhost:8080/",
          "height": 51
        },
        "outputId": "3c082fa1-0ec5-41da-cccc-e0c08fdadc8c"
      },
      "source": [
        "del trial_model\n",
        "trial_learn.destroy()\n",
        "gc.collect()"
      ],
      "execution_count": 19,
      "outputs": [
        {
          "output_type": "stream",
          "text": [
            "this Learner object self-destroyed - it still exists, but no longer usable\n"
          ],
          "name": "stdout"
        },
        {
          "output_type": "execute_result",
          "data": {
            "text/plain": [
              "0"
            ]
          },
          "metadata": {
            "tags": []
          },
          "execution_count": 19
        }
      ]
    },
    {
      "cell_type": "code",
      "metadata": {
        "id": "U36mS4qBIXZ_",
        "colab_type": "code",
        "colab": {}
      },
      "source": [
        "mymodel = nn.Sequential(\n",
        "    nn.Sequential(\n",
        "          nn.Conv2d(3,8,5),     # 60 × 60 × 8\n",
        "          nn.ReLU(),\n",
        "          nn.AvgPool2d(3, stride=2),    # 29 × 29 × 8\n",
        "        \n",
        "          #nn.Dropout(p=0.25),\n",
        "          nn.Conv2d(8,8,5),         # 25 × 25 × 8\n",
        "          nn.ReLU(),\n",
        "          nn.AvgPool2d(3, stride=2),    # 12 × 12 × 8\n",
        "        \n",
        "          Flatten()         # 1152\n",
        "    ),\n",
        "    nn.Sequential(\n",
        "#           nn.Dropout(p=0.25),\n",
        "          nn.Linear(1152, 144),\n",
        "          nn.ReLU(),\n",
        "          nn.Dropout(p=0.8),\n",
        "          nn.Linear(144, db.c) \n",
        "    )\n",
        ")"
      ],
      "execution_count": 0,
      "outputs": []
    },
    {
      "cell_type": "code",
      "metadata": {
        "id": "7Z5EyEC2JDkv",
        "colab_type": "code",
        "colab": {}
      },
      "source": [
        "learn = Learner(db, mymodel, loss_func = nn.CrossEntropyLoss(), metrics=accuracy)\n",
        "learn.summary()\n",
        "learn.save('initial')"
      ],
      "execution_count": 0,
      "outputs": []
    },
    {
      "cell_type": "markdown",
      "metadata": {
        "id": "0t4sSMWIKgk2",
        "colab_type": "text"
      },
      "source": [
        "# Train Model"
      ]
    },
    {
      "cell_type": "code",
      "metadata": {
        "id": "FteSA2jlJDxH",
        "colab_type": "code",
        "outputId": "77c869da-f516-4645-83ea-dee39e1f77a3",
        "colab": {
          "base_uri": "https://localhost:8080/",
          "height": 80
        }
      },
      "source": [
        "learn.fit_one_cycle(1, 1e-6)  # learn.fit_one_cycle(1, 0.01)\n",
        "# learn.save('save-1')"
      ],
      "execution_count": 22,
      "outputs": [
        {
          "output_type": "display_data",
          "data": {
            "text/html": [
              "<table border=\"1\" class=\"dataframe\">\n",
              "  <thead>\n",
              "    <tr style=\"text-align: left;\">\n",
              "      <th>epoch</th>\n",
              "      <th>train_loss</th>\n",
              "      <th>valid_loss</th>\n",
              "      <th>accuracy</th>\n",
              "      <th>time</th>\n",
              "    </tr>\n",
              "  </thead>\n",
              "  <tbody>\n",
              "    <tr>\n",
              "      <td>0</td>\n",
              "      <td>0.694697</td>\n",
              "      <td>0.691843</td>\n",
              "      <td>0.557377</td>\n",
              "      <td>00:04</td>\n",
              "    </tr>\n",
              "  </tbody>\n",
              "</table>"
            ],
            "text/plain": [
              "<IPython.core.display.HTML object>"
            ]
          },
          "metadata": {
            "tags": []
          }
        }
      ]
    },
    {
      "cell_type": "code",
      "metadata": {
        "id": "UNY7L1jFK3jS",
        "colab_type": "code",
        "outputId": "835c24ee-9e1b-449a-9bd2-7615e965be2a",
        "colab": {
          "base_uri": "https://localhost:8080/",
          "height": 300
        }
      },
      "source": [
        "learn.lr_find(start_lr=1e-8, end_lr=1)\n",
        "learn.recorder.plot()"
      ],
      "execution_count": 23,
      "outputs": [
        {
          "output_type": "display_data",
          "data": {
            "text/html": [
              ""
            ],
            "text/plain": [
              "<IPython.core.display.HTML object>"
            ]
          },
          "metadata": {
            "tags": []
          }
        },
        {
          "output_type": "stream",
          "text": [
            "LR Finder is complete, type {learner_name}.recorder.plot() to see the graph.\n"
          ],
          "name": "stdout"
        },
        {
          "output_type": "display_data",
          "data": {
            "image/png": "[encoded data removed]",
            "text/plain": [
              "<Figure size 432x288 with 1 Axes>"
            ]
          },
          "metadata": {
            "tags": []
          }
        }
      ]
    },
    {
      "cell_type": "code",
      "metadata": {
        "id": "7Pkb1Vo3NYz9",
        "colab_type": "code",
        "outputId": "3fa2d40e-96e1-4c92-f7a7-80830a40e231",
        "colab": {
          "base_uri": "https://localhost:8080/",
          "height": 3149
        }
      },
      "source": [
        "learn.load('initial')\n",
        "learn.fit_one_cycle(100, 3e-3)  # learn.fit_one_cycle(1, 0.01)"
      ],
      "execution_count": 24,
      "outputs": [
        {
          "output_type": "display_data",
          "data": {
            "text/html": [
              "<table border=\"1\" class=\"dataframe\">\n",
              "  <thead>\n",
              "    <tr style=\"text-align: left;\">\n",
              "      <th>epoch</th>\n",
              "      <th>train_loss</th>\n",
              "      <th>valid_loss</th>\n",
              "      <th>accuracy</th>\n",
              "      <th>time</th>\n",
              "    </tr>\n",
              "  </thead>\n",
              "  <tbody>\n",
              "    <tr>\n",
              "      <td>0</td>\n",
              "      <td>0.693327</td>\n",
              "      <td>0.692420</td>\n",
              "      <td>0.508197</td>\n",
              "      <td>00:03</td>\n",
              "    </tr>\n",
              "    <tr>\n",
              "      <td>1</td>\n",
              "      <td>0.693667</td>\n",
              "      <td>0.692282</td>\n",
              "      <td>0.467213</td>\n",
              "      <td>00:03</td>\n",
              "    </tr>\n",
              "    <tr>\n",
              "      <td>2</td>\n",
              "      <td>0.693996</td>\n",
              "      <td>0.691893</td>\n",
              "      <td>0.459016</td>\n",
              "      <td>00:03</td>\n",
              "    </tr>\n",
              "    <tr>\n",
              "      <td>3</td>\n",
              "      <td>0.693211</td>\n",
              "      <td>0.691155</td>\n",
              "      <td>0.475410</td>\n",
              "      <td>00:03</td>\n",
              "    </tr>\n",
              "    <tr>\n",
              "      <td>4</td>\n",
              "      <td>0.692800</td>\n",
              "      <td>0.690164</td>\n",
              "      <td>0.516393</td>\n",
              "      <td>00:03</td>\n",
              "    </tr>\n",
              "    <tr>\n",
              "      <td>5</td>\n",
              "      <td>0.691713</td>\n",
              "      <td>0.688191</td>\n",
              "      <td>0.573770</td>\n",
              "      <td>00:03</td>\n",
              "    </tr>\n",
              "    <tr>\n",
              "      <td>6</td>\n",
              "      <td>0.690287</td>\n",
              "      <td>0.685161</td>\n",
              "      <td>0.549180</td>\n",
              "      <td>00:04</td>\n",
              "    </tr>\n",
              "    <tr>\n",
              "      <td>7</td>\n",
              "      <td>0.688371</td>\n",
              "      <td>0.678960</td>\n",
              "      <td>0.557377</td>\n",
              "      <td>00:04</td>\n",
              "    </tr>\n",
              "    <tr>\n",
              "      <td>8</td>\n",
              "      <td>0.687793</td>\n",
              "      <td>0.669602</td>\n",
              "      <td>0.573770</td>\n",
              "      <td>00:04</td>\n",
              "    </tr>\n",
              "    <tr>\n",
              "      <td>9</td>\n",
              "      <td>0.686679</td>\n",
              "      <td>0.660444</td>\n",
              "      <td>0.565574</td>\n",
              "      <td>00:03</td>\n",
              "    </tr>\n",
              "    <tr>\n",
              "      <td>10</td>\n",
              "      <td>0.685147</td>\n",
              "      <td>0.667196</td>\n",
              "      <td>0.532787</td>\n",
              "      <td>00:03</td>\n",
              "    </tr>\n",
              "    <tr>\n",
              "      <td>11</td>\n",
              "      <td>0.684087</td>\n",
              "      <td>0.669038</td>\n",
              "      <td>0.573770</td>\n",
              "      <td>00:03</td>\n",
              "    </tr>\n",
              "    <tr>\n",
              "      <td>12</td>\n",
              "      <td>0.679933</td>\n",
              "      <td>0.653756</td>\n",
              "      <td>0.614754</td>\n",
              "      <td>00:03</td>\n",
              "    </tr>\n",
              "    <tr>\n",
              "      <td>13</td>\n",
              "      <td>0.672798</td>\n",
              "      <td>0.626938</td>\n",
              "      <td>0.688525</td>\n",
              "      <td>00:03</td>\n",
              "    </tr>\n",
              "    <tr>\n",
              "      <td>14</td>\n",
              "      <td>0.669417</td>\n",
              "      <td>0.669755</td>\n",
              "      <td>0.540984</td>\n",
              "      <td>00:04</td>\n",
              "    </tr>\n",
              "    <tr>\n",
              "      <td>15</td>\n",
              "      <td>0.665489</td>\n",
              "      <td>0.632473</td>\n",
              "      <td>0.622951</td>\n",
              "      <td>00:03</td>\n",
              "    </tr>\n",
              "    <tr>\n",
              "      <td>16</td>\n",
              "      <td>0.658222</td>\n",
              "      <td>0.593025</td>\n",
              "      <td>0.647541</td>\n",
              "      <td>00:03</td>\n",
              "    </tr>\n",
              "    <tr>\n",
              "      <td>17</td>\n",
              "      <td>0.646409</td>\n",
              "      <td>0.587669</td>\n",
              "      <td>0.704918</td>\n",
              "      <td>00:03</td>\n",
              "    </tr>\n",
              "    <tr>\n",
              "      <td>18</td>\n",
              "      <td>0.635161</td>\n",
              "      <td>0.581825</td>\n",
              "      <td>0.713115</td>\n",
              "      <td>00:03</td>\n",
              "    </tr>\n",
              "    <tr>\n",
              "      <td>19</td>\n",
              "      <td>0.626777</td>\n",
              "      <td>0.582403</td>\n",
              "      <td>0.688525</td>\n",
              "      <td>00:03</td>\n",
              "    </tr>\n",
              "    <tr>\n",
              "      <td>20</td>\n",
              "      <td>0.615703</td>\n",
              "      <td>0.596147</td>\n",
              "      <td>0.688525</td>\n",
              "      <td>00:03</td>\n",
              "    </tr>\n",
              "    <tr>\n",
              "      <td>21</td>\n",
              "      <td>0.602857</td>\n",
              "      <td>0.586757</td>\n",
              "      <td>0.688525</td>\n",
              "      <td>00:03</td>\n",
              "    </tr>\n",
              "    <tr>\n",
              "      <td>22</td>\n",
              "      <td>0.587635</td>\n",
              "      <td>0.572640</td>\n",
              "      <td>0.729508</td>\n",
              "      <td>00:03</td>\n",
              "    </tr>\n",
              "    <tr>\n",
              "      <td>23</td>\n",
              "      <td>0.569287</td>\n",
              "      <td>0.569918</td>\n",
              "      <td>0.737705</td>\n",
              "      <td>00:03</td>\n",
              "    </tr>\n",
              "    <tr>\n",
              "      <td>24</td>\n",
              "      <td>0.555949</td>\n",
              "      <td>0.515780</td>\n",
              "      <td>0.754098</td>\n",
              "      <td>00:03</td>\n",
              "    </tr>\n",
              "    <tr>\n",
              "      <td>25</td>\n",
              "      <td>0.540863</td>\n",
              "      <td>0.613805</td>\n",
              "      <td>0.721311</td>\n",
              "      <td>00:04</td>\n",
              "    </tr>\n",
              "    <tr>\n",
              "      <td>26</td>\n",
              "      <td>0.523340</td>\n",
              "      <td>0.571728</td>\n",
              "      <td>0.762295</td>\n",
              "      <td>00:04</td>\n",
              "    </tr>\n",
              "    <tr>\n",
              "      <td>27</td>\n",
              "      <td>0.512441</td>\n",
              "      <td>0.582286</td>\n",
              "      <td>0.721311</td>\n",
              "      <td>00:04</td>\n",
              "    </tr>\n",
              "    <tr>\n",
              "      <td>28</td>\n",
              "      <td>0.499139</td>\n",
              "      <td>0.517941</td>\n",
              "      <td>0.737705</td>\n",
              "      <td>00:04</td>\n",
              "    </tr>\n",
              "    <tr>\n",
              "      <td>29</td>\n",
              "      <td>0.485297</td>\n",
              "      <td>0.467071</td>\n",
              "      <td>0.795082</td>\n",
              "      <td>00:03</td>\n",
              "    </tr>\n",
              "    <tr>\n",
              "      <td>30</td>\n",
              "      <td>0.465541</td>\n",
              "      <td>0.526552</td>\n",
              "      <td>0.737705</td>\n",
              "      <td>00:03</td>\n",
              "    </tr>\n",
              "    <tr>\n",
              "      <td>31</td>\n",
              "      <td>0.449582</td>\n",
              "      <td>0.597458</td>\n",
              "      <td>0.745902</td>\n",
              "      <td>00:03</td>\n",
              "    </tr>\n",
              "    <tr>\n",
              "      <td>32</td>\n",
              "      <td>0.433068</td>\n",
              "      <td>0.537581</td>\n",
              "      <td>0.786885</td>\n",
              "      <td>00:03</td>\n",
              "    </tr>\n",
              "    <tr>\n",
              "      <td>33</td>\n",
              "      <td>0.412181</td>\n",
              "      <td>0.572914</td>\n",
              "      <td>0.754098</td>\n",
              "      <td>00:03</td>\n",
              "    </tr>\n",
              "    <tr>\n",
              "      <td>34</td>\n",
              "      <td>0.397310</td>\n",
              "      <td>0.551374</td>\n",
              "      <td>0.819672</td>\n",
              "      <td>00:03</td>\n",
              "    </tr>\n",
              "    <tr>\n",
              "      <td>35</td>\n",
              "      <td>0.380799</td>\n",
              "      <td>0.518006</td>\n",
              "      <td>0.827869</td>\n",
              "      <td>00:03</td>\n",
              "    </tr>\n",
              "    <tr>\n",
              "      <td>36</td>\n",
              "      <td>0.365889</td>\n",
              "      <td>0.484920</td>\n",
              "      <td>0.836066</td>\n",
              "      <td>00:03</td>\n",
              "    </tr>\n",
              "    <tr>\n",
              "      <td>37</td>\n",
              "      <td>0.346956</td>\n",
              "      <td>0.507253</td>\n",
              "      <td>0.844262</td>\n",
              "      <td>00:03</td>\n",
              "    </tr>\n",
              "    <tr>\n",
              "      <td>38</td>\n",
              "      <td>0.331075</td>\n",
              "      <td>0.537868</td>\n",
              "      <td>0.827869</td>\n",
              "      <td>00:03</td>\n",
              "    </tr>\n",
              "    <tr>\n",
              "      <td>39</td>\n",
              "      <td>0.326048</td>\n",
              "      <td>0.481716</td>\n",
              "      <td>0.844262</td>\n",
              "      <td>00:03</td>\n",
              "    </tr>\n",
              "    <tr>\n",
              "      <td>40</td>\n",
              "      <td>0.314643</td>\n",
              "      <td>0.438615</td>\n",
              "      <td>0.860656</td>\n",
              "      <td>00:03</td>\n",
              "    </tr>\n",
              "    <tr>\n",
              "      <td>41</td>\n",
              "      <td>0.301784</td>\n",
              "      <td>0.462500</td>\n",
              "      <td>0.827869</td>\n",
              "      <td>00:03</td>\n",
              "    </tr>\n",
              "    <tr>\n",
              "      <td>42</td>\n",
              "      <td>0.292196</td>\n",
              "      <td>0.473262</td>\n",
              "      <td>0.852459</td>\n",
              "      <td>00:03</td>\n",
              "    </tr>\n",
              "    <tr>\n",
              "      <td>43</td>\n",
              "      <td>0.275773</td>\n",
              "      <td>0.381732</td>\n",
              "      <td>0.860656</td>\n",
              "      <td>00:03</td>\n",
              "    </tr>\n",
              "    <tr>\n",
              "      <td>44</td>\n",
              "      <td>0.261762</td>\n",
              "      <td>0.372367</td>\n",
              "      <td>0.852459</td>\n",
              "      <td>00:03</td>\n",
              "    </tr>\n",
              "    <tr>\n",
              "      <td>45</td>\n",
              "      <td>0.246564</td>\n",
              "      <td>0.358652</td>\n",
              "      <td>0.860656</td>\n",
              "      <td>00:03</td>\n",
              "    </tr>\n",
              "    <tr>\n",
              "      <td>46</td>\n",
              "      <td>0.239783</td>\n",
              "      <td>0.445270</td>\n",
              "      <td>0.852459</td>\n",
              "      <td>00:03</td>\n",
              "    </tr>\n",
              "    <tr>\n",
              "      <td>47</td>\n",
              "      <td>0.232306</td>\n",
              "      <td>0.541846</td>\n",
              "      <td>0.786885</td>\n",
              "      <td>00:04</td>\n",
              "    </tr>\n",
              "    <tr>\n",
              "      <td>48</td>\n",
              "      <td>0.220670</td>\n",
              "      <td>0.327060</td>\n",
              "      <td>0.877049</td>\n",
              "      <td>00:04</td>\n",
              "    </tr>\n",
              "    <tr>\n",
              "      <td>49</td>\n",
              "      <td>0.209627</td>\n",
              "      <td>0.349661</td>\n",
              "      <td>0.885246</td>\n",
              "      <td>00:04</td>\n",
              "    </tr>\n",
              "    <tr>\n",
              "      <td>50</td>\n",
              "      <td>0.196855</td>\n",
              "      <td>0.341417</td>\n",
              "      <td>0.852459</td>\n",
              "      <td>00:03</td>\n",
              "    </tr>\n",
              "    <tr>\n",
              "      <td>51</td>\n",
              "      <td>0.189521</td>\n",
              "      <td>0.288280</td>\n",
              "      <td>0.893443</td>\n",
              "      <td>00:04</td>\n",
              "    </tr>\n",
              "    <tr>\n",
              "      <td>52</td>\n",
              "      <td>0.177972</td>\n",
              "      <td>0.271521</td>\n",
              "      <td>0.893443</td>\n",
              "      <td>00:04</td>\n",
              "    </tr>\n",
              "    <tr>\n",
              "      <td>53</td>\n",
              "      <td>0.168781</td>\n",
              "      <td>0.308220</td>\n",
              "      <td>0.885246</td>\n",
              "      <td>00:04</td>\n",
              "    </tr>\n",
              "    <tr>\n",
              "      <td>54</td>\n",
              "      <td>0.161524</td>\n",
              "      <td>0.290750</td>\n",
              "      <td>0.893443</td>\n",
              "      <td>00:03</td>\n",
              "    </tr>\n",
              "    <tr>\n",
              "      <td>55</td>\n",
              "      <td>0.156216</td>\n",
              "      <td>0.292264</td>\n",
              "      <td>0.893443</td>\n",
              "      <td>00:03</td>\n",
              "    </tr>\n",
              "    <tr>\n",
              "      <td>56</td>\n",
              "      <td>0.148924</td>\n",
              "      <td>0.283055</td>\n",
              "      <td>0.893443</td>\n",
              "      <td>00:03</td>\n",
              "    </tr>\n",
              "    <tr>\n",
              "      <td>57</td>\n",
              "      <td>0.138190</td>\n",
              "      <td>0.262015</td>\n",
              "      <td>0.885246</td>\n",
              "      <td>00:03</td>\n",
              "    </tr>\n",
              "    <tr>\n",
              "      <td>58</td>\n",
              "      <td>0.130408</td>\n",
              "      <td>0.288977</td>\n",
              "      <td>0.885246</td>\n",
              "      <td>00:03</td>\n",
              "    </tr>\n",
              "    <tr>\n",
              "      <td>59</td>\n",
              "      <td>0.121740</td>\n",
              "      <td>0.261681</td>\n",
              "      <td>0.918033</td>\n",
              "      <td>00:03</td>\n",
              "    </tr>\n",
              "    <tr>\n",
              "      <td>60</td>\n",
              "      <td>0.112958</td>\n",
              "      <td>0.227427</td>\n",
              "      <td>0.942623</td>\n",
              "      <td>00:03</td>\n",
              "    </tr>\n",
              "    <tr>\n",
              "      <td>61</td>\n",
              "      <td>0.107858</td>\n",
              "      <td>0.239338</td>\n",
              "      <td>0.918033</td>\n",
              "      <td>00:03</td>\n",
              "    </tr>\n",
              "    <tr>\n",
              "      <td>62</td>\n",
              "      <td>0.105899</td>\n",
              "      <td>0.379067</td>\n",
              "      <td>0.901639</td>\n",
              "      <td>00:03</td>\n",
              "    </tr>\n",
              "    <tr>\n",
              "      <td>63</td>\n",
              "      <td>0.102010</td>\n",
              "      <td>0.357062</td>\n",
              "      <td>0.901639</td>\n",
              "      <td>00:03</td>\n",
              "    </tr>\n",
              "    <tr>\n",
              "      <td>64</td>\n",
              "      <td>0.098958</td>\n",
              "      <td>0.324806</td>\n",
              "      <td>0.909836</td>\n",
              "      <td>00:03</td>\n",
              "    </tr>\n",
              "    <tr>\n",
              "      <td>65</td>\n",
              "      <td>0.095695</td>\n",
              "      <td>0.275259</td>\n",
              "      <td>0.918033</td>\n",
              "      <td>00:03</td>\n",
              "    </tr>\n",
              "    <tr>\n",
              "      <td>66</td>\n",
              "      <td>0.090429</td>\n",
              "      <td>0.274218</td>\n",
              "      <td>0.901639</td>\n",
              "      <td>00:04</td>\n",
              "    </tr>\n",
              "    <tr>\n",
              "      <td>67</td>\n",
              "      <td>0.088064</td>\n",
              "      <td>0.275650</td>\n",
              "      <td>0.918033</td>\n",
              "      <td>00:04</td>\n",
              "    </tr>\n",
              "    <tr>\n",
              "      <td>68</td>\n",
              "      <td>0.081980</td>\n",
              "      <td>0.226376</td>\n",
              "      <td>0.918033</td>\n",
              "      <td>00:04</td>\n",
              "    </tr>\n",
              "    <tr>\n",
              "      <td>69</td>\n",
              "      <td>0.078974</td>\n",
              "      <td>0.186952</td>\n",
              "      <td>0.909836</td>\n",
              "      <td>00:03</td>\n",
              "    </tr>\n",
              "    <tr>\n",
              "      <td>70</td>\n",
              "      <td>0.074536</td>\n",
              "      <td>0.182593</td>\n",
              "      <td>0.934426</td>\n",
              "      <td>00:03</td>\n",
              "    </tr>\n",
              "    <tr>\n",
              "      <td>71</td>\n",
              "      <td>0.072571</td>\n",
              "      <td>0.185881</td>\n",
              "      <td>0.926230</td>\n",
              "      <td>00:03</td>\n",
              "    </tr>\n",
              "    <tr>\n",
              "      <td>72</td>\n",
              "      <td>0.068878</td>\n",
              "      <td>0.201311</td>\n",
              "      <td>0.934426</td>\n",
              "      <td>00:03</td>\n",
              "    </tr>\n",
              "    <tr>\n",
              "      <td>73</td>\n",
              "      <td>0.070722</td>\n",
              "      <td>0.218396</td>\n",
              "      <td>0.926230</td>\n",
              "      <td>00:03</td>\n",
              "    </tr>\n",
              "    <tr>\n",
              "      <td>74</td>\n",
              "      <td>0.065602</td>\n",
              "      <td>0.235972</td>\n",
              "      <td>0.934426</td>\n",
              "      <td>00:03</td>\n",
              "    </tr>\n",
              "    <tr>\n",
              "      <td>75</td>\n",
              "      <td>0.062092</td>\n",
              "      <td>0.265400</td>\n",
              "      <td>0.909836</td>\n",
              "      <td>00:03</td>\n",
              "    </tr>\n",
              "    <tr>\n",
              "      <td>76</td>\n",
              "      <td>0.060193</td>\n",
              "      <td>0.253992</td>\n",
              "      <td>0.934426</td>\n",
              "      <td>00:03</td>\n",
              "    </tr>\n",
              "    <tr>\n",
              "      <td>77</td>\n",
              "      <td>0.059364</td>\n",
              "      <td>0.220470</td>\n",
              "      <td>0.934426</td>\n",
              "      <td>00:03</td>\n",
              "    </tr>\n",
              "    <tr>\n",
              "      <td>78</td>\n",
              "      <td>0.059196</td>\n",
              "      <td>0.174635</td>\n",
              "      <td>0.918033</td>\n",
              "      <td>00:03</td>\n",
              "    </tr>\n",
              "    <tr>\n",
              "      <td>79</td>\n",
              "      <td>0.056240</td>\n",
              "      <td>0.156860</td>\n",
              "      <td>0.926230</td>\n",
              "      <td>00:03</td>\n",
              "    </tr>\n",
              "    <tr>\n",
              "      <td>80</td>\n",
              "      <td>0.053705</td>\n",
              "      <td>0.154915</td>\n",
              "      <td>0.918033</td>\n",
              "      <td>00:03</td>\n",
              "    </tr>\n",
              "    <tr>\n",
              "      <td>81</td>\n",
              "      <td>0.051555</td>\n",
              "      <td>0.155969</td>\n",
              "      <td>0.934426</td>\n",
              "      <td>00:03</td>\n",
              "    </tr>\n",
              "    <tr>\n",
              "      <td>82</td>\n",
              "      <td>0.048242</td>\n",
              "      <td>0.162600</td>\n",
              "      <td>0.918033</td>\n",
              "      <td>00:03</td>\n",
              "    </tr>\n",
              "    <tr>\n",
              "      <td>83</td>\n",
              "      <td>0.045945</td>\n",
              "      <td>0.165775</td>\n",
              "      <td>0.926230</td>\n",
              "      <td>00:03</td>\n",
              "    </tr>\n",
              "    <tr>\n",
              "      <td>84</td>\n",
              "      <td>0.042672</td>\n",
              "      <td>0.170409</td>\n",
              "      <td>0.926230</td>\n",
              "      <td>00:03</td>\n",
              "    </tr>\n",
              "    <tr>\n",
              "      <td>85</td>\n",
              "      <td>0.039991</td>\n",
              "      <td>0.174946</td>\n",
              "      <td>0.918033</td>\n",
              "      <td>00:03</td>\n",
              "    </tr>\n",
              "    <tr>\n",
              "      <td>86</td>\n",
              "      <td>0.037802</td>\n",
              "      <td>0.176688</td>\n",
              "      <td>0.918033</td>\n",
              "      <td>00:04</td>\n",
              "    </tr>\n",
              "    <tr>\n",
              "      <td>87</td>\n",
              "      <td>0.035632</td>\n",
              "      <td>0.180678</td>\n",
              "      <td>0.918033</td>\n",
              "      <td>00:04</td>\n",
              "    </tr>\n",
              "    <tr>\n",
              "      <td>88</td>\n",
              "      <td>0.035644</td>\n",
              "      <td>0.183300</td>\n",
              "      <td>0.918033</td>\n",
              "      <td>00:04</td>\n",
              "    </tr>\n",
              "    <tr>\n",
              "      <td>89</td>\n",
              "      <td>0.033723</td>\n",
              "      <td>0.182546</td>\n",
              "      <td>0.918033</td>\n",
              "      <td>00:03</td>\n",
              "    </tr>\n",
              "    <tr>\n",
              "      <td>90</td>\n",
              "      <td>0.035698</td>\n",
              "      <td>0.183879</td>\n",
              "      <td>0.918033</td>\n",
              "      <td>00:03</td>\n",
              "    </tr>\n",
              "    <tr>\n",
              "      <td>91</td>\n",
              "      <td>0.034619</td>\n",
              "      <td>0.183288</td>\n",
              "      <td>0.918033</td>\n",
              "      <td>00:03</td>\n",
              "    </tr>\n",
              "    <tr>\n",
              "      <td>92</td>\n",
              "      <td>0.035067</td>\n",
              "      <td>0.182259</td>\n",
              "      <td>0.918033</td>\n",
              "      <td>00:03</td>\n",
              "    </tr>\n",
              "    <tr>\n",
              "      <td>93</td>\n",
              "      <td>0.033919</td>\n",
              "      <td>0.180371</td>\n",
              "      <td>0.918033</td>\n",
              "      <td>00:03</td>\n",
              "    </tr>\n",
              "    <tr>\n",
              "      <td>94</td>\n",
              "      <td>0.033159</td>\n",
              "      <td>0.179331</td>\n",
              "      <td>0.918033</td>\n",
              "      <td>00:03</td>\n",
              "    </tr>\n",
              "    <tr>\n",
              "      <td>95</td>\n",
              "      <td>0.032420</td>\n",
              "      <td>0.178945</td>\n",
              "      <td>0.926230</td>\n",
              "      <td>00:03</td>\n",
              "    </tr>\n",
              "    <tr>\n",
              "      <td>96</td>\n",
              "      <td>0.031248</td>\n",
              "      <td>0.179156</td>\n",
              "      <td>0.926230</td>\n",
              "      <td>00:03</td>\n",
              "    </tr>\n",
              "    <tr>\n",
              "      <td>97</td>\n",
              "      <td>0.031407</td>\n",
              "      <td>0.179180</td>\n",
              "      <td>0.926230</td>\n",
              "      <td>00:03</td>\n",
              "    </tr>\n",
              "    <tr>\n",
              "      <td>98</td>\n",
              "      <td>0.029980</td>\n",
              "      <td>0.179211</td>\n",
              "      <td>0.926230</td>\n",
              "      <td>00:03</td>\n",
              "    </tr>\n",
              "    <tr>\n",
              "      <td>99</td>\n",
              "      <td>0.029561</td>\n",
              "      <td>0.179225</td>\n",
              "      <td>0.926230</td>\n",
              "      <td>00:03</td>\n",
              "    </tr>\n",
              "  </tbody>\n",
              "</table>"
            ],
            "text/plain": [
              "<IPython.core.display.HTML object>"
            ]
          },
          "metadata": {
            "tags": []
          }
        }
      ]
    }
  ]
}