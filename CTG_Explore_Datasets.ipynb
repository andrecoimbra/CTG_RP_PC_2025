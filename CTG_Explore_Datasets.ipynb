{
  "nbformat": 4,
  "nbformat_minor": 0,
  "metadata": {
    "colab": {
      "name": "CTG_RP Explore Datasets.ipynb",
      "version": "0.3.2",
      "provenance": [],
      "collapsed_sections": [],
      "include_colab_link": true
    },
    "language_info": {
      "codemirror_mode": {
        "name": "ipython",
        "version": 3
      },
      "file_extension": ".py",
      "mimetype": "text/x-python",
      "name": "python",
      "nbconvert_exporter": "python",
      "pygments_lexer": "ipython3",
      "version": "3.6.8"
    },
    "kernelspec": {
      "display_name": "Python 3",
      "language": "python",
      "name": "python3"
    }
  },
  "cells": [
    {
      "cell_type": "markdown",
      "metadata": {
        "id": "view-in-github",
        "colab_type": "text"
      },
      "source": [
        "<a href=\"https://colab.research.google.com/github/williamsdoug/CTG_RP/blob/master/CTG_RP_Explore_Datasets.ipynb\" target=\"_parent\"><img src=\"https://colab.research.google.com/assets/colab-badge.svg\" alt=\"Open In Colab\"/></a>"
      ]
    },
    {
      "cell_type": "markdown",
      "metadata": {
        "id": "rdV-UfCWAbe1",
        "colab_type": "text"
      },
      "source": [
        "# Generate Datasets and Verify Content"
      ]
    },
    {
      "cell_type": "code",
      "metadata": {
        "id": "Waljt_cvAbe2",
        "colab_type": "code",
        "colab": {}
      },
      "source": [
        "%reload_ext autoreload\n",
        "%autoreload 2\n",
        "%matplotlib inline"
      ],
      "execution_count": 0,
      "outputs": []
    },
    {
      "cell_type": "code",
      "metadata": {
        "id": "r3uofxVyAbe6",
        "colab_type": "code",
        "colab": {}
      },
      "source": [
        "import config_local\n",
        "from config_local import *"
      ],
      "execution_count": 0,
      "outputs": []
    },
    {
      "cell_type": "code",
      "metadata": {
        "id": "c75SbCPBAbe8",
        "colab_type": "code",
        "colab": {}
      },
      "source": [
        "import numpy as np\n",
        "import matplotlib.pyplot as plt\n",
        "\n",
        "from fastai.vision import *\n",
        "\n",
        "import collections\n",
        "import pprint"
      ],
      "execution_count": 0,
      "outputs": []
    },
    {
      "cell_type": "code",
      "metadata": {
        "id": "BWT1_z0IAbe9",
        "colab_type": "code",
        "colab": {}
      },
      "source": [
        "from compute_metadata import get_splits, generate_label_file, generate_lists"
      ],
      "execution_count": 0,
      "outputs": []
    },
    {
      "cell_type": "markdown",
      "metadata": {
        "id": "IXcz4vuVAbfA",
        "colab_type": "text"
      },
      "source": [
        "## Generate Train and Valid Label Files"
      ]
    },
    {
      "cell_type": "code",
      "metadata": {
        "id": "9lEivw5PAbfB",
        "colab_type": "code",
        "colab": {}
      },
      "source": [
        "train_valid_groups_full = get_splits(image_dir='images', image_file='rp_images_index.json', \n",
        "                                     #include=['d2_t1_p3.', 'd2_t1_p1.'],\n",
        "                                     thresh = 7.15)\n",
        "              \n",
        "# Use any split to create labels\n",
        "generate_label_file(train_valid_groups_full[0])\n",
        "\n",
        "# Create valid_x.csv files for each split\n",
        "for i in range(len(train_valid_groups_full)):\n",
        "    generate_lists(train_valid_groups_full[i], train_file='train_{}.csv'.format(i),\n",
        "                   valid_file='valid_{}.csv'.format(i))\n",
        "\n",
        "# pprint(generate_label_file(test_valid_groups_full[0], csv_file=None))\n",
        "# pprint(generate_valid_list(test_valid_groups_full[0], valid_file=None))"
      ],
      "execution_count": 0,
      "outputs": []
    },
    {
      "cell_type": "code",
      "metadata": {
        "id": "7pRyYW8LAbfD",
        "colab_type": "code",
        "colab": {
          "base_uri": "https://localhost:8080/",
          "height": 68
        },
        "outputId": "a1b02dfe-99db-4022-eb4f-318dc89419d2"
      },
      "source": [
        "!ls images/*.csv"
      ],
      "execution_count": 6,
      "outputs": [
        {
          "output_type": "stream",
          "text": [
            "images/train_0.csv  images/train_3.csv\timages/valid_1.csv  images/valid_4.csv\n",
            "images/train_1.csv  images/train_4.csv\timages/valid_2.csv\n",
            "images/train_2.csv  images/valid_0.csv\timages/valid_3.csv\n"
          ],
          "name": "stdout"
        }
      ]
    },
    {
      "cell_type": "code",
      "metadata": {
        "id": "XO7NNv_NAbfH",
        "colab_type": "code",
        "colab": {}
      },
      "source": [
        "tfms=[]\n",
        "size=60\n",
        "bs=4\n",
        "workers=4\n",
        "\n",
        "path = Path() / 'images'"
      ],
      "execution_count": 0,
      "outputs": []
    },
    {
      "cell_type": "code",
      "metadata": {
        "id": "h_teKLeJAbfJ",
        "colab_type": "code",
        "colab": {}
      },
      "source": [
        "train = ImageList.from_csv(path, 'train_0.csv')\n",
        "valid = ImageList.from_csv(path, 'valid_0.csv')\n",
        "\n",
        "lls = ItemLists(path, train, valid).label_from_df(cols=1).transform(tfms, size=size) \n",
        "db = lls.databunch(bs=bs, num_workers=workers)#.normalize(imagenet_stats)"
      ],
      "execution_count": 0,
      "outputs": []
    },
    {
      "cell_type": "markdown",
      "metadata": {
        "id": "0Ee5p49pAbfL",
        "colab_type": "text"
      },
      "source": [
        "## Examine Results\n",
        "### Train and Test ImageLists"
      ]
    },
    {
      "cell_type": "code",
      "metadata": {
        "id": "FkBHBFnoAbfM",
        "colab_type": "code",
        "colab": {
          "base_uri": "https://localhost:8080/",
          "height": 68
        },
        "outputId": "6ff2b564-54fb-4c17-8315-9c0eca68d872"
      },
      "source": [
        "train"
      ],
      "execution_count": 9,
      "outputs": [
        {
          "output_type": "execute_result",
          "data": {
            "text/plain": [
              "ImageList (492 items)\n",
              "Image (3, 599, 599),Image (3, 599, 599),Image (3, 599, 599),Image (3, 599, 599),Image (3, 599, 599)\n",
              "Path: images"
            ]
          },
          "metadata": {
            "tags": []
          },
          "execution_count": 9
        }
      ]
    },
    {
      "cell_type": "code",
      "metadata": {
        "id": "0AgeX_E6AbfP",
        "colab_type": "code",
        "colab": {
          "base_uri": "https://localhost:8080/",
          "height": 232
        },
        "outputId": "1188d28c-1566-4f78-9939-e46fcda17a6e"
      },
      "source": [
        "im = train.get(-1)\n",
        "print(len(train), im.size)\n",
        "im.show()"
      ],
      "execution_count": 10,
      "outputs": [
        {
          "output_type": "stream",
          "text": [
            "492 torch.Size([599, 599])\n"
          ],
          "name": "stdout"
        },
        {
          "output_type": "display_data",
          "data": {
            "image/png": "[encoded data removed]",
            "text/plain": [
              "<Figure size 216x216 with 1 Axes>"
            ]
          },
          "metadata": {
            "tags": []
          }
        }
      ]
    },
    {
      "cell_type": "code",
      "metadata": {
        "id": "4ZdWEFMpAbfS",
        "colab_type": "code",
        "colab": {
          "base_uri": "https://localhost:8080/",
          "height": 68
        },
        "outputId": "40b1213e-cdeb-4d12-e875-0c9820e7429f"
      },
      "source": [
        "valid"
      ],
      "execution_count": 11,
      "outputs": [
        {
          "output_type": "execute_result",
          "data": {
            "text/plain": [
              "ImageList (120 items)\n",
              "Image (3, 599, 599),Image (3, 599, 599),Image (3, 599, 599),Image (3, 599, 599),Image (3, 599, 599)\n",
              "Path: images"
            ]
          },
          "metadata": {
            "tags": []
          },
          "execution_count": 11
        }
      ]
    },
    {
      "cell_type": "code",
      "metadata": {
        "id": "0TQbNXiuAbfV",
        "colab_type": "code",
        "colab": {
          "base_uri": "https://localhost:8080/",
          "height": 232
        },
        "outputId": "9bf5162d-6742-4121-dfae-7d6e2865c575"
      },
      "source": [
        "im = valid.get(0)\n",
        "print(len(valid), im.size)\n",
        "im.show()"
      ],
      "execution_count": 12,
      "outputs": [
        {
          "output_type": "stream",
          "text": [
            "120 torch.Size([599, 599])\n"
          ],
          "name": "stdout"
        },
        {
          "output_type": "display_data",
          "data": {
            "image/png": "[encoded data removed]",
            "text/plain": [
              "<Figure size 216x216 with 1 Axes>"
            ]
          },
          "metadata": {
            "tags": []
          }
        }
      ]
    },
    {
      "cell_type": "markdown",
      "metadata": {
        "id": "CrFyaCMTAbfX",
        "colab_type": "text"
      },
      "source": [
        "### After applying labels"
      ]
    },
    {
      "cell_type": "code",
      "metadata": {
        "id": "y9BTFskcAbfY",
        "colab_type": "code",
        "colab": {
          "base_uri": "https://localhost:8080/",
          "height": 391
        },
        "outputId": "f2bc7b93-d547-4533-9bff-497269c96204"
      },
      "source": [
        "print('nClass: {}    classes: {}'.format(lls.c, lls.classes))  \n",
        "print('\\nLabel Distribution by ImageList')\n",
        "for t, x in [['train', lls.train], ['valid', lls.valid]]:\n",
        "    c = collections.Counter(x.y)\n",
        "    print('    ', t, dict(c))\n",
        "lls"
      ],
      "execution_count": 13,
      "outputs": [
        {
          "output_type": "stream",
          "text": [
            "nClass: 2    classes: [0, 1]\n",
            "\n",
            "Label Distribution by ImageList\n",
            "     train {Category 0: 246, Category 1: 246}\n",
            "     valid {Category 0: 60, Category 1: 60}\n"
          ],
          "name": "stdout"
        },
        {
          "output_type": "execute_result",
          "data": {
            "text/plain": [
              "LabelLists;\n",
              "\n",
              "Train: LabelList (492 items)\n",
              "x: ImageList\n",
              "Image (3, 60, 60),Image (3, 60, 60),Image (3, 60, 60),Image (3, 60, 60),Image (3, 60, 60)\n",
              "y: CategoryList\n",
              "0,0,0,0,0\n",
              "Path: images;\n",
              "\n",
              "Valid: LabelList (120 items)\n",
              "x: ImageList\n",
              "Image (3, 60, 60),Image (3, 60, 60),Image (3, 60, 60),Image (3, 60, 60),Image (3, 60, 60)\n",
              "y: CategoryList\n",
              "0,0,0,0,0\n",
              "Path: images;\n",
              "\n",
              "Test: None"
            ]
          },
          "metadata": {
            "tags": []
          },
          "execution_count": 13
        }
      ]
    },
    {
      "cell_type": "code",
      "metadata": {
        "id": "2LWRNQEoAbfa",
        "colab_type": "code",
        "colab": {
          "base_uri": "https://localhost:8080/",
          "height": 215
        },
        "outputId": "24aaaad6-0863-4ac4-f586-5c17dfc20a8a"
      },
      "source": [
        "lls.train.get(-1).show()"
      ],
      "execution_count": 14,
      "outputs": [
        {
          "output_type": "display_data",
          "data": {
            "image/png": "[encoded data removed]",
            "text/plain": [
              "<Figure size 216x216 with 1 Axes>"
            ]
          },
          "metadata": {
            "tags": []
          }
        }
      ]
    },
    {
      "cell_type": "markdown",
      "metadata": {
        "id": "xSCAnpBdAbff",
        "colab_type": "text"
      },
      "source": [
        "### DataBunch"
      ]
    },
    {
      "cell_type": "code",
      "metadata": {
        "id": "Bk14YOW7Abfg",
        "colab_type": "code",
        "colab": {
          "base_uri": "https://localhost:8080/",
          "height": 323
        },
        "outputId": "3cbeb537-67bd-4b96-8bcb-5d6e7de7aada"
      },
      "source": [
        "print('nClass: {}    classes: {}'.format(db.c, db.classes))\n",
        "db"
      ],
      "execution_count": 15,
      "outputs": [
        {
          "output_type": "stream",
          "text": [
            "nClass: 2    classes: [0, 1]\n"
          ],
          "name": "stdout"
        },
        {
          "output_type": "execute_result",
          "data": {
            "text/plain": [
              "ImageDataBunch;\n",
              "\n",
              "Train: LabelList (492 items)\n",
              "x: ImageList\n",
              "Image (3, 60, 60),Image (3, 60, 60),Image (3, 60, 60),Image (3, 60, 60),Image (3, 60, 60)\n",
              "y: CategoryList\n",
              "0,0,0,0,0\n",
              "Path: images;\n",
              "\n",
              "Valid: LabelList (120 items)\n",
              "x: ImageList\n",
              "Image (3, 60, 60),Image (3, 60, 60),Image (3, 60, 60),Image (3, 60, 60),Image (3, 60, 60)\n",
              "y: CategoryList\n",
              "0,0,0,0,0\n",
              "Path: images;\n",
              "\n",
              "Test: None"
            ]
          },
          "metadata": {
            "tags": []
          },
          "execution_count": 15
        }
      ]
    }
  ]
}