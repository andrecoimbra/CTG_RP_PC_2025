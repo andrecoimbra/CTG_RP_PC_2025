{
  "nbformat": 4,
  "nbformat_minor": 0,
  "metadata": {
    "colab": {
      "name": "RP_CTG_Startup_Config",
      "provenance": [],
      "include_colab_link": true
    },
    "kernelspec": {
      "name": "python3",
      "display_name": "Python 3"
    },
    "accelerator": "GPU"
  },
  "cells": [
    {
      "cell_type": "markdown",
      "metadata": {
        "id": "view-in-github",
        "colab_type": "text"
      },
      "source": [
        "<a href=\"https://colab.research.google.com/github/andrecoimbra/CTG_RP_PC_2025/blob/main/CTG_Startup_Config.ipynb\" target=\"_parent\"><img src=\"https://colab.research.google.com/assets/colab-badge.svg\" alt=\"Open In Colab\"/></a>"
      ]
    },
    {
      "cell_type": "markdown",
      "metadata": {
        "id": "ixM0WA8D2zyB"
      },
      "source": [
        "# Config Colab Instance\n",
        "\n",
        "Used to install packages and down librar"
      ]
    },
    {
      "cell_type": "code",
      "metadata": {
        "id": "V2rzrydi2w3m"
      },
      "source": [
        "%reload_ext autoreload\n",
        "%autoreload 2\n",
        "%matplotlib inline"
      ],
      "execution_count": null,
      "outputs": []
    },
    {
      "cell_type": "markdown",
      "metadata": {
        "id": "NpnO1Izd9u2N"
      },
      "source": [
        "## Dowload config file from GitHub repo\n",
        "\n",
        "Also any default source files"
      ]
    },
    {
      "cell_type": "code",
      "metadata": {
        "id": "yL84CKlr15Tf",
        "outputId": "8272ab04-4e9e-4c94-f367-771af610ba05",
        "colab": {
          "base_uri": "https://localhost:8080/",
          "height": 241
        }
      },
      "source": [
        "! rm config_local.py\n",
        "! wget https://raw.githubusercontent.com/andrecoimbra/CTG_RP_PC_2025/main/src/config_local.py"
      ],
      "execution_count": null,
      "outputs": [
        {
          "output_type": "stream",
          "text": [
            "rm: cannot remove 'config_local.py': No such file or directory\n",
            "--2019-05-28 16:00:53--  https://raw.githubusercontent.com/williamsdoug/CTG_RP/master/src/config_local.py\n",
            "Resolving raw.githubusercontent.com (raw.githubusercontent.com)... 151.101.0.133, 151.101.64.133, 151.101.128.133, ...\n",
            "Connecting to raw.githubusercontent.com (raw.githubusercontent.com)|151.101.0.133|:443... connected.\n",
            "HTTP request sent, awaiting response... 200 OK\n",
            "Length: 1369 (1.3K) [text/plain]\n",
            "Saving to: ‘config_local.py’\n",
            "\n",
            "config_local.py     100%[===================>]   1.34K  --.-KB/s    in 0s      \n",
            "\n",
            "2019-05-28 16:00:54 (186 MB/s) - ‘config_local.py’ saved [1369/1369]\n",
            "\n"
          ],
          "name": "stdout"
        }
      ]
    },
    {
      "cell_type": "code",
      "metadata": {
        "id": "RDZ52Pjv15Z9"
      },
      "source": [
        "from config_local import get_default_github_src_files"
      ],
      "execution_count": null,
      "outputs": []
    },
    {
      "cell_type": "markdown",
      "metadata": {
        "id": "tkoyuvq09_gy"
      },
      "source": [
        "#### Download other specified files from src folder"
      ]
    },
    {
      "cell_type": "code",
      "metadata": {
        "id": "9VSjaeZs4sa6",
        "outputId": "bcaeccfb-247d-44a1-8da1-316784052313",
        "colab": {
          "base_uri": "https://localhost:8080/",
          "height": 238
        }
      },
      "source": [
        "get_default_github_src_files()"
      ],
      "execution_count": null,
      "outputs": [
        {
          "output_type": "stream",
          "text": [
            "Beginning file download of file basic_denoise.py\n",
            "https://raw.githubusercontent.com/williamsdoug/CTG_RP/master/src/basic_denoise.py\n",
            "Beginning file download of file compute_metadata.py\n",
            "https://raw.githubusercontent.com/williamsdoug/CTG_RP/master/src/compute_metadata.py\n",
            "Beginning file download of file ctg_utils.py\n",
            "https://raw.githubusercontent.com/williamsdoug/CTG_RP/master/src/ctg_utils.py\n",
            "Beginning file download of file libRP.py\n",
            "https://raw.githubusercontent.com/williamsdoug/CTG_RP/master/src/libRP.py\n",
            "Beginning file download of file generate_recurrence_images.py\n",
            "https://raw.githubusercontent.com/williamsdoug/CTG_RP/master/src/generate_recurrence_images.py\n",
            "Beginning file download of file test.py\n",
            "https://raw.githubusercontent.com/williamsdoug/CTG_RP/master/src/test.py\n",
            "Done\n"
          ],
          "name": "stdout"
        }
      ]
    },
    {
      "cell_type": "code",
      "metadata": {
        "id": "p-wo0GH44slj",
        "outputId": "dc2b1f5d-62d8-4abb-a484-58ea31db6562",
        "colab": {
          "base_uri": "https://localhost:8080/",
          "height": 68
        }
      },
      "source": [
        "! ls"
      ],
      "execution_count": null,
      "outputs": [
        {
          "output_type": "stream",
          "text": [
            "basic_denoise.py     ctg_utils.py\t\t    __pycache__\n",
            "compute_metadata.py  generate_recurrence_images.py  sample_data\n",
            "config_local.py      libRP.py\t\t\t    test.py\n"
          ],
          "name": "stdout"
        }
      ]
    },
    {
      "cell_type": "code",
      "metadata": {
        "id": "foMmePwK43q5",
        "outputId": "e6747698-0572-4bfe-9944-f7049c6a84f7",
        "colab": {
          "base_uri": "https://localhost:8080/",
          "height": 34
        }
      },
      "source": [
        "# test code\n",
        "import test\n",
        "test.test()"
      ],
      "execution_count": null,
      "outputs": [
        {
          "output_type": "stream",
          "text": [
            "Hi There\n"
          ],
          "name": "stdout"
        }
      ]
    },
    {
      "cell_type": "markdown",
      "metadata": {
        "id": "lO-X4lflMl1m"
      },
      "source": [
        "## Download Package Dependencies"
      ]
    },
    {
      "cell_type": "code",
      "metadata": {
        "id": "neJUrW_kMLYM",
        "outputId": "ea839dfc-bfc0-479f-a4d3-eb2beb31d02f",
        "colab": {
          "base_uri": "https://localhost:8080/",
          "height": 530
        }
      },
      "source": [
        "! pip install wfdb"
      ],
      "execution_count": null,
      "outputs": [
        {
          "output_type": "stream",
          "text": [
            "Collecting wfdb\n",
            "\u001b[?25l  Downloading https://files.pythonhosted.org/packages/b2/96/c2200539fdf4f087e14d30ed62a66544b6f441196bcb8ecc7a29ec6503b9/wfdb-2.2.1.tar.gz (94kB)\n",
            "\r\u001b[K     |███▌                            | 10kB 19.4MB/s eta 0:00:01\r\u001b[K     |███████                         | 20kB 5.8MB/s eta 0:00:01\r\u001b[K     |██████████▍                     | 30kB 8.3MB/s eta 0:00:01\r\u001b[K     |█████████████▉                  | 40kB 5.4MB/s eta 0:00:01\r\u001b[K     |█████████████████▎              | 51kB 6.6MB/s eta 0:00:01\r\u001b[K     |████████████████████▊           | 61kB 7.8MB/s eta 0:00:01\r\u001b[K     |████████████████████████▏       | 71kB 8.8MB/s eta 0:00:01\r\u001b[K     |███████████████████████████▋    | 81kB 9.9MB/s eta 0:00:01\r\u001b[K     |███████████████████████████████ | 92kB 10.9MB/s eta 0:00:01\r\u001b[K     |████████████████████████████████| 102kB 10.6MB/s \n",
            "\u001b[?25hRequirement already satisfied: nose>=1.3.7 in /usr/local/lib/python3.6/dist-packages (from wfdb) (1.3.7)\n",
            "Requirement already satisfied: numpy>=1.11.0 in /usr/local/lib/python3.6/dist-packages (from wfdb) (1.16.3)\n",
            "Requirement already satisfied: matplotlib>=1.5.1 in /usr/local/lib/python3.6/dist-packages (from wfdb) (3.0.3)\n",
            "Requirement already satisfied: requests>=2.10.0 in /usr/local/lib/python3.6/dist-packages (from wfdb) (2.21.0)\n",
            "Requirement already satisfied: pandas>=0.19.1 in /usr/local/lib/python3.6/dist-packages (from wfdb) (0.24.2)\n",
            "Requirement already satisfied: scipy>=0.19.0 in /usr/local/lib/python3.6/dist-packages (from wfdb) (1.3.0)\n",
            "Requirement already satisfied: sklearn>=0.0 in /usr/local/lib/python3.6/dist-packages (from wfdb) (0.0)\n",
            "Requirement already satisfied: pyparsing!=2.0.4,!=2.1.2,!=2.1.6,>=2.0.1 in /usr/local/lib/python3.6/dist-packages (from matplotlib>=1.5.1->wfdb) (2.4.0)\n",
            "Requirement already satisfied: python-dateutil>=2.1 in /usr/local/lib/python3.6/dist-packages (from matplotlib>=1.5.1->wfdb) (2.5.3)\n",
            "Requirement already satisfied: cycler>=0.10 in /usr/local/lib/python3.6/dist-packages (from matplotlib>=1.5.1->wfdb) (0.10.0)\n",
            "Requirement already satisfied: kiwisolver>=1.0.1 in /usr/local/lib/python3.6/dist-packages (from matplotlib>=1.5.1->wfdb) (1.1.0)\n",
            "Requirement already satisfied: certifi>=2017.4.17 in /usr/local/lib/python3.6/dist-packages (from requests>=2.10.0->wfdb) (2019.3.9)\n",
            "Requirement already satisfied: chardet<3.1.0,>=3.0.2 in /usr/local/lib/python3.6/dist-packages (from requests>=2.10.0->wfdb) (3.0.4)\n",
            "Requirement already satisfied: urllib3<1.25,>=1.21.1 in /usr/local/lib/python3.6/dist-packages (from requests>=2.10.0->wfdb) (1.24.3)\n",
            "Requirement already satisfied: idna<2.9,>=2.5 in /usr/local/lib/python3.6/dist-packages (from requests>=2.10.0->wfdb) (2.8)\n",
            "Requirement already satisfied: pytz>=2011k in /usr/local/lib/python3.6/dist-packages (from pandas>=0.19.1->wfdb) (2018.9)\n",
            "Requirement already satisfied: scikit-learn in /usr/local/lib/python3.6/dist-packages (from sklearn>=0.0->wfdb) (0.21.1)\n",
            "Requirement already satisfied: six>=1.5 in /usr/local/lib/python3.6/dist-packages (from python-dateutil>=2.1->matplotlib>=1.5.1->wfdb) (1.12.0)\n",
            "Requirement already satisfied: setuptools in /usr/local/lib/python3.6/dist-packages (from kiwisolver>=1.0.1->matplotlib>=1.5.1->wfdb) (41.0.1)\n",
            "Requirement already satisfied: joblib>=0.11 in /usr/local/lib/python3.6/dist-packages (from scikit-learn->sklearn>=0.0->wfdb) (0.12.5)\n",
            "Building wheels for collected packages: wfdb\n",
            "  Building wheel for wfdb (setup.py) ... \u001b[?25l\u001b[?25hdone\n",
            "  Stored in directory: /root/.cache/pip/wheels/bb/a9/00/0078d26b0c15b31be0001af8eb659496709c361c69641303f1\n",
            "Successfully built wfdb\n",
            "Installing collected packages: wfdb\n",
            "Successfully installed wfdb-2.2.1\n"
          ],
          "name": "stdout"
        }
      ]
    },
    {
      "cell_type": "code",
      "metadata": {
        "id": "LYCbBmvJMRjG",
        "outputId": "04315aba-4e0b-427c-e385-7bf1706f8ab8",
        "colab": {
          "base_uri": "https://localhost:8080/",
          "height": 139
        }
      },
      "source": [
        "! pip install pyts"
      ],
      "execution_count": null,
      "outputs": [
        {
          "output_type": "stream",
          "text": [
            "Collecting pyts\n",
            "\u001b[?25l  Downloading https://files.pythonhosted.org/packages/ff/40/0567f1984a1741e89d8187764187ede3e81195b2cb9e260b9918e3bdb4f0/pyts-0.8.0-py3-none-any.whl (82kB)\n",
            "\u001b[K     |████████████████████████████████| 92kB 9.3MB/s \n",
            "\u001b[?25hRequirement already satisfied: numpy>=1.15.4scipy>=1.1.0scikit-learn>=0.20.1numba>=0.41.0 in /usr/local/lib/python3.6/dist-packages (from pyts) (1.16.3)\n",
            "Installing collected packages: pyts\n",
            "Successfully installed pyts-0.8.0\n"
          ],
          "name": "stdout"
        }
      ]
    },
    {
      "cell_type": "markdown",
      "metadata": {
        "id": "3D_y8-VFMrpu"
      },
      "source": [
        "## Download CTU-UHB Database"
      ]
    },
    {
      "cell_type": "code",
      "metadata": {
        "id": "16LKwS7dLKR6"
      },
      "source": [
        "#!rsync physionet.org::"
      ],
      "execution_count": null,
      "outputs": []
    },
    {
      "cell_type": "code",
      "metadata": {
        "id": "KECBGl-ELSou",
        "outputId": "2fb56918-af50-44de-b2fb-f496eceba601",
        "colab": {
          "base_uri": "https://localhost:8080/",
          "height": 85
        }
      },
      "source": [
        "!pwd\n",
        "!ls"
      ],
      "execution_count": null,
      "outputs": [
        {
          "output_type": "stream",
          "text": [
            "/content\n",
            "basic_denoise.py     ctg_utils.py\t\t    __pycache__\n",
            "compute_metadata.py  generate_recurrence_images.py  sample_data\n",
            "config_local.py      libRP.py\t\t\t    test.py\n"
          ],
          "name": "stdout"
        }
      ]
    },
    {
      "cell_type": "code",
      "metadata": {
        "id": "o7Hphx0ULlKj"
      },
      "source": [
        "#!rsync -Cavz physionet.org::ctu-uhb-ctgdb  /content/ctu-uhb-ctgdb\n",
        "!rsync -Caz physionet.org::ctu-uhb-ctgdb  /content/ctu-uhb-ctgdb"
      ],
      "execution_count": null,
      "outputs": []
    },
    {
      "cell_type": "code",
      "metadata": {
        "id": "WdpGT5acL_c6",
        "outputId": "1ef4bd16-0744-42a9-bea5-a5a43f062236",
        "colab": {
          "base_uri": "https://localhost:8080/",
          "height": 2720
        }
      },
      "source": [
        "ls /content/ctu-uhb-ctgdb"
      ],
      "execution_count": null,
      "outputs": [
        {
          "output_type": "stream",
          "text": [
            "1001.dat  1080.hea  1160.dat  1239.hea  1319.dat  1398.hea  1478.dat\n",
            "1001.hea  1081.dat  1160.hea  1240.dat  1319.hea  1399.dat  1478.hea\n",
            "1002.dat  1081.hea  1161.dat  1240.hea  1320.dat  1399.hea  1479.dat\n",
            "1002.hea  1082.dat  1161.hea  1241.dat  1320.hea  1400.dat  1479.hea\n",
            "1003.dat  1082.hea  1162.dat  1241.hea  1321.dat  1400.hea  1480.dat\n",
            "1003.hea  1083.dat  1162.hea  1242.dat  1321.hea  1401.dat  1480.hea\n",
            "1004.dat  1083.hea  1163.dat  1242.hea  1322.dat  1401.hea  1481.dat\n",
            "1004.hea  1084.dat  1163.hea  1243.dat  1322.hea  1402.dat  1481.hea\n",
            "1005.dat  1084.hea  1164.dat  1243.hea  1323.dat  1402.hea  1482.dat\n",
            "1005.hea  1085.dat  1164.hea  1244.dat  1323.hea  1403.dat  1482.hea\n",
            "1006.dat  1085.hea  1165.dat  1244.hea  1324.dat  1403.hea  1483.dat\n",
            "1006.hea  1086.dat  1165.hea  1245.dat  1324.hea  1404.dat  1483.hea\n",
            "1007.dat  1086.hea  1166.dat  1245.hea  1325.dat  1404.hea  1484.dat\n",
            "1007.hea  1087.dat  1166.hea  1246.dat  1325.hea  1405.dat  1484.hea\n",
            "1008.dat  1087.hea  1167.dat  1246.hea  1326.dat  1405.hea  1485.dat\n",
            "1008.hea  1088.dat  1167.hea  1247.dat  1326.hea  1406.dat  1485.hea\n",
            "1009.dat  1088.hea  1168.dat  1247.hea  1327.dat  1406.hea  1486.dat\n",
            "1009.hea  1089.dat  1168.hea  1248.dat  1327.hea  1407.dat  1486.hea\n",
            "1010.dat  1089.hea  1169.dat  1248.hea  1328.dat  1407.hea  1487.dat\n",
            "1010.hea  1090.dat  1169.hea  1249.dat  1328.hea  1408.dat  1487.hea\n",
            "1011.dat  1090.hea  1170.dat  1249.hea  1329.dat  1408.hea  1488.dat\n",
            "1011.hea  1091.dat  1170.hea  1250.dat  1329.hea  1409.dat  1488.hea\n",
            "1012.dat  1091.hea  1171.dat  1250.hea  1330.dat  1409.hea  1489.dat\n",
            "1012.hea  1092.dat  1171.hea  1251.dat  1330.hea  1410.dat  1489.hea\n",
            "1013.dat  1092.hea  1172.dat  1251.hea  1331.dat  1410.hea  1490.dat\n",
            "1013.hea  1093.dat  1172.hea  1252.dat  1331.hea  1411.dat  1490.hea\n",
            "1014.dat  1093.hea  1173.dat  1252.hea  1332.dat  1411.hea  1491.dat\n",
            "1014.hea  1094.dat  1173.hea  1253.dat  1332.hea  1412.dat  1491.hea\n",
            "1015.dat  1094.hea  1174.dat  1253.hea  1333.dat  1412.hea  1492.dat\n",
            "1015.hea  1095.dat  1174.hea  1254.dat  1333.hea  1413.dat  1492.hea\n",
            "1016.dat  1095.hea  1175.dat  1254.hea  1334.dat  1413.hea  1493.dat\n",
            "1016.hea  1096.dat  1175.hea  1255.dat  1334.hea  1414.dat  1493.hea\n",
            "1017.dat  1096.hea  1176.dat  1255.hea  1335.dat  1414.hea  1494.dat\n",
            "1017.hea  1097.dat  1176.hea  1256.dat  1335.hea  1415.dat  1494.hea\n",
            "1018.dat  1097.hea  1177.dat  1256.hea  1336.dat  1415.hea  1495.dat\n",
            "1018.hea  1098.dat  1177.hea  1257.dat  1336.hea  1416.dat  1495.hea\n",
            "1019.dat  1098.hea  1178.dat  1257.hea  1337.dat  1416.hea  1496.dat\n",
            "1019.hea  1099.dat  1178.hea  1258.dat  1337.hea  1417.dat  1496.hea\n",
            "1020.dat  1099.hea  1179.dat  1258.hea  1338.dat  1417.hea  1497.dat\n",
            "1020.hea  1100.dat  1179.hea  1259.dat  1338.hea  1418.dat  1497.hea\n",
            "1021.dat  1100.hea  1180.dat  1259.hea  1339.dat  1418.hea  1498.dat\n",
            "1021.hea  1101.dat  1180.hea  1260.dat  1339.hea  1419.dat  1498.hea\n",
            "1022.dat  1101.hea  1181.dat  1260.hea  1340.dat  1419.hea  1499.dat\n",
            "1022.hea  1102.dat  1181.hea  1261.dat  1340.hea  1420.dat  1499.hea\n",
            "1023.dat  1102.hea  1182.dat  1261.hea  1341.dat  1420.hea  1500.dat\n",
            "1023.hea  1103.dat  1182.hea  1262.dat  1341.hea  1421.dat  1500.hea\n",
            "1024.dat  1103.hea  1183.dat  1262.hea  1342.dat  1421.hea  1501.dat\n",
            "1024.hea  1104.dat  1183.hea  1263.dat  1342.hea  1422.dat  1501.hea\n",
            "1025.dat  1104.hea  1184.dat  1263.hea  1343.dat  1422.hea  1502.dat\n",
            "1025.hea  1105.dat  1184.hea  1264.dat  1343.hea  1423.dat  1502.hea\n",
            "1026.dat  1105.hea  1185.dat  1264.hea  1344.dat  1423.hea  1503.dat\n",
            "1026.hea  1106.dat  1185.hea  1265.dat  1344.hea  1424.dat  1503.hea\n",
            "1027.dat  1106.hea  1186.dat  1265.hea  1345.dat  1424.hea  1504.dat\n",
            "1027.hea  1107.dat  1186.hea  1266.dat  1345.hea  1425.dat  1504.hea\n",
            "1028.dat  1107.hea  1187.dat  1266.hea  1346.dat  1425.hea  1505.dat\n",
            "1028.hea  1108.dat  1187.hea  1267.dat  1346.hea  1426.dat  1505.hea\n",
            "1029.dat  1108.hea  1188.dat  1267.hea  1347.dat  1426.hea  1506.dat\n",
            "1029.hea  1109.dat  1188.hea  1268.dat  1347.hea  1427.dat  1506.hea\n",
            "1030.dat  1109.hea  1189.dat  1268.hea  1348.dat  1427.hea  2001.dat\n",
            "1030.hea  1110.dat  1189.hea  1269.dat  1348.hea  1428.dat  2001.hea\n",
            "1031.dat  1110.hea  1190.dat  1269.hea  1349.dat  1428.hea  2002.dat\n",
            "1031.hea  1111.dat  1190.hea  1270.dat  1349.hea  1429.dat  2002.hea\n",
            "1032.dat  1111.hea  1191.dat  1270.hea  1350.dat  1429.hea  2003.dat\n",
            "1032.hea  1112.dat  1191.hea  1271.dat  1350.hea  1430.dat  2003.hea\n",
            "1033.dat  1112.hea  1192.dat  1271.hea  1351.dat  1430.hea  2004.dat\n",
            "1033.hea  1113.dat  1192.hea  1272.dat  1351.hea  1431.dat  2004.hea\n",
            "1034.dat  1113.hea  1193.dat  1272.hea  1352.dat  1431.hea  2005.dat\n",
            "1034.hea  1114.dat  1193.hea  1273.dat  1352.hea  1432.dat  2005.hea\n",
            "1035.dat  1114.hea  1194.dat  1273.hea  1353.dat  1432.hea  2006.dat\n",
            "1035.hea  1115.dat  1194.hea  1274.dat  1353.hea  1433.dat  2006.hea\n",
            "1036.dat  1115.hea  1195.dat  1274.hea  1354.dat  1433.hea  2007.dat\n",
            "1036.hea  1116.dat  1195.hea  1275.dat  1354.hea  1434.dat  2007.hea\n",
            "1037.dat  1116.hea  1196.dat  1275.hea  1355.dat  1434.hea  2008.dat\n",
            "1037.hea  1117.dat  1196.hea  1276.dat  1355.hea  1435.dat  2008.hea\n",
            "1038.dat  1117.hea  1197.dat  1276.hea  1356.dat  1435.hea  2009.dat\n",
            "1038.hea  1118.dat  1197.hea  1277.dat  1356.hea  1436.dat  2009.hea\n",
            "1039.dat  1118.hea  1198.dat  1277.hea  1357.dat  1436.hea  2010.dat\n",
            "1039.hea  1119.dat  1198.hea  1278.dat  1357.hea  1437.dat  2010.hea\n",
            "1040.dat  1119.hea  1199.dat  1278.hea  1358.dat  1437.hea  2011.dat\n",
            "1040.hea  1120.dat  1199.hea  1279.dat  1358.hea  1438.dat  2011.hea\n",
            "1041.dat  1120.hea  1200.dat  1279.hea  1359.dat  1438.hea  2012.dat\n",
            "1041.hea  1121.dat  1200.hea  1280.dat  1359.hea  1439.dat  2012.hea\n",
            "1042.dat  1121.hea  1201.dat  1280.hea  1360.dat  1439.hea  2013.dat\n",
            "1042.hea  1122.dat  1201.hea  1281.dat  1360.hea  1440.dat  2013.hea\n",
            "1043.dat  1122.hea  1202.dat  1281.hea  1361.dat  1440.hea  2014.dat\n",
            "1043.hea  1123.dat  1202.hea  1282.dat  1361.hea  1441.dat  2014.hea\n",
            "1044.dat  1123.hea  1203.dat  1282.hea  1362.dat  1441.hea  2015.dat\n",
            "1044.hea  1124.dat  1203.hea  1283.dat  1362.hea  1442.dat  2015.hea\n",
            "1045.dat  1124.hea  1204.dat  1283.hea  1363.dat  1442.hea  2016.dat\n",
            "1045.hea  1125.dat  1204.hea  1284.dat  1363.hea  1443.dat  2016.hea\n",
            "1046.dat  1125.hea  1205.dat  1284.hea  1364.dat  1443.hea  2017.dat\n",
            "1046.hea  1126.dat  1205.hea  1285.dat  1364.hea  1444.dat  2017.hea\n",
            "1047.dat  1126.hea  1206.dat  1285.hea  1365.dat  1444.hea  2018.dat\n",
            "1047.hea  1127.dat  1206.hea  1286.dat  1365.hea  1445.dat  2018.hea\n",
            "1048.dat  1127.hea  1207.dat  1286.hea  1366.dat  1445.hea  2019.dat\n",
            "1048.hea  1128.dat  1207.hea  1287.dat  1366.hea  1446.dat  2019.hea\n",
            "1049.dat  1128.hea  1208.dat  1287.hea  1367.dat  1446.hea  2020.dat\n",
            "1049.hea  1129.dat  1208.hea  1288.dat  1367.hea  1447.dat  2020.hea\n",
            "1050.dat  1129.hea  1209.dat  1288.hea  1368.dat  1447.hea  2021.dat\n",
            "1050.hea  1130.dat  1209.hea  1289.dat  1368.hea  1448.dat  2021.hea\n",
            "1051.dat  1130.hea  1210.dat  1289.hea  1369.dat  1448.hea  2022.dat\n",
            "1051.hea  1131.dat  1210.hea  1290.dat  1369.hea  1449.dat  2022.hea\n",
            "1052.dat  1131.hea  1211.dat  1290.hea  1370.dat  1449.hea  2023.dat\n",
            "1052.hea  1132.dat  1211.hea  1291.dat  1370.hea  1450.dat  2023.hea\n",
            "1053.dat  1132.hea  1212.dat  1291.hea  1371.dat  1450.hea  2024.dat\n",
            "1053.hea  1133.dat  1212.hea  1292.dat  1371.hea  1451.dat  2024.hea\n",
            "1054.dat  1133.hea  1213.dat  1292.hea  1372.dat  1451.hea  2025.dat\n",
            "1054.hea  1134.dat  1213.hea  1293.dat  1372.hea  1452.dat  2025.hea\n",
            "1055.dat  1134.hea  1214.dat  1293.hea  1373.dat  1452.hea  2026.dat\n",
            "1055.hea  1135.dat  1214.hea  1294.dat  1373.hea  1453.dat  2026.hea\n",
            "1056.dat  1135.hea  1215.dat  1294.hea  1374.dat  1453.hea  2027.dat\n",
            "1056.hea  1136.dat  1215.hea  1295.dat  1374.hea  1454.dat  2027.hea\n",
            "1057.dat  1136.hea  1216.dat  1295.hea  1375.dat  1454.hea  2028.dat\n",
            "1057.hea  1137.dat  1216.hea  1296.dat  1375.hea  1455.dat  2028.hea\n",
            "1058.dat  1137.hea  1217.dat  1296.hea  1376.dat  1455.hea  2029.dat\n",
            "1058.hea  1138.dat  1217.hea  1297.dat  1376.hea  1456.dat  2029.hea\n",
            "1059.dat  1138.hea  1218.dat  1297.hea  1377.dat  1456.hea  2030.dat\n",
            "1059.hea  1139.dat  1218.hea  1298.dat  1377.hea  1457.dat  2030.hea\n",
            "1060.dat  1139.hea  1219.dat  1298.hea  1378.dat  1457.hea  2031.dat\n",
            "1060.hea  1140.dat  1219.hea  1299.dat  1378.hea  1458.dat  2031.hea\n",
            "1061.dat  1140.hea  1220.dat  1299.hea  1379.dat  1458.hea  2032.dat\n",
            "1061.hea  1141.dat  1220.hea  1300.dat  1379.hea  1459.dat  2032.hea\n",
            "1062.dat  1141.hea  1221.dat  1300.hea  1380.dat  1459.hea  2033.dat\n",
            "1062.hea  1142.dat  1221.hea  1301.dat  1380.hea  1460.dat  2033.hea\n",
            "1063.dat  1142.hea  1222.dat  1301.hea  1381.dat  1460.hea  2034.dat\n",
            "1063.hea  1143.dat  1222.hea  1302.dat  1381.hea  1461.dat  2034.hea\n",
            "1064.dat  1143.hea  1223.dat  1302.hea  1382.dat  1461.hea  2035.dat\n",
            "1064.hea  1144.dat  1223.hea  1303.dat  1382.hea  1462.dat  2035.hea\n",
            "1065.dat  1144.hea  1224.dat  1303.hea  1383.dat  1462.hea  2036.dat\n",
            "1065.hea  1145.dat  1224.hea  1304.dat  1383.hea  1463.dat  2036.hea\n",
            "1066.dat  1145.hea  1225.dat  1304.hea  1384.dat  1463.hea  2037.dat\n",
            "1066.hea  1146.dat  1225.hea  1305.dat  1384.hea  1464.dat  2037.hea\n",
            "1067.dat  1146.hea  1226.dat  1305.hea  1385.dat  1464.hea  2038.dat\n",
            "1067.hea  1147.dat  1226.hea  1306.dat  1385.hea  1465.dat  2038.hea\n",
            "1068.dat  1147.hea  1227.dat  1306.hea  1386.dat  1465.hea  2039.dat\n",
            "1068.hea  1148.dat  1227.hea  1307.dat  1386.hea  1466.dat  2039.hea\n",
            "1069.dat  1148.hea  1228.dat  1307.hea  1387.dat  1466.hea  2040.dat\n",
            "1069.hea  1149.dat  1228.hea  1308.dat  1387.hea  1467.dat  2040.hea\n",
            "1070.dat  1149.hea  1229.dat  1308.hea  1388.dat  1467.hea  2041.dat\n",
            "1070.hea  1150.dat  1229.hea  1309.dat  1388.hea  1468.dat  2041.hea\n",
            "1071.dat  1150.hea  1230.dat  1309.hea  1389.dat  1468.hea  2042.dat\n",
            "1071.hea  1151.dat  1230.hea  1310.dat  1389.hea  1469.dat  2042.hea\n",
            "1072.dat  1151.hea  1231.dat  1310.hea  1390.dat  1469.hea  2043.dat\n",
            "1072.hea  1152.dat  1231.hea  1311.dat  1390.hea  1470.dat  2043.hea\n",
            "1073.dat  1152.hea  1232.dat  1311.hea  1391.dat  1470.hea  2044.dat\n",
            "1073.hea  1153.dat  1232.hea  1312.dat  1391.hea  1471.dat  2044.hea\n",
            "1074.dat  1153.hea  1233.dat  1312.hea  1392.dat  1471.hea  2045.dat\n",
            "1074.hea  1154.dat  1233.hea  1313.dat  1392.hea  1472.dat  2045.hea\n",
            "1075.dat  1154.hea  1234.dat  1313.hea  1393.dat  1472.hea  2046.dat\n",
            "1075.hea  1155.dat  1234.hea  1314.dat  1393.hea  1473.dat  2046.hea\n",
            "1076.dat  1155.hea  1235.dat  1314.hea  1394.dat  1473.hea  ANNOTATIONS\n",
            "1076.hea  1156.dat  1235.hea  1315.dat  1394.hea  1474.dat  DOI\n",
            "1077.dat  1156.hea  1236.dat  1315.hea  1395.dat  1474.hea  HEADER.shtml\n",
            "1077.hea  1157.dat  1236.hea  1316.dat  1395.hea  1475.dat  local.css\n",
            "1078.dat  1157.hea  1237.dat  1316.hea  1396.dat  1475.hea  MD5SUMS\n",
            "1078.hea  1158.dat  1237.hea  1317.dat  1396.hea  1476.dat  RECORDS\n",
            "1079.dat  1158.hea  1238.dat  1317.hea  1397.dat  1476.hea  SHA1SUMS\n",
            "1079.hea  1159.dat  1238.hea  1318.dat  1397.hea  1477.dat  SHA256SUMS\n",
            "1080.dat  1159.hea  1239.dat  1318.hea  1398.dat  1477.hea  wfdbcal\n"
          ],
          "name": "stdout"
        }
      ]
    }
  ]
}